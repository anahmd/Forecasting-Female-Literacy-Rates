{
  "nbformat": 4,
  "nbformat_minor": 0,
  "metadata": {
    "colab": {
      "provenance": []
    },
    "kernelspec": {
      "name": "python3",
      "display_name": "Python 3"
    },
    "language_info": {
      "name": "python"
    }
  },
  "cells": [
    {
      "cell_type": "code",
      "execution_count": null,
      "metadata": {
        "id": "4ssgjPZTe8rW",
        "colab": {
          "base_uri": "https://localhost:8080/"
        },
        "outputId": "f8f83c65-0b1a-435a-a981-9c2c8e0df8cd"
      },
      "outputs": [
        {
          "output_type": "stream",
          "name": "stderr",
          "text": [
            "/usr/local/lib/python3.7/dist-packages/statsmodels/tools/_testing.py:19: FutureWarning: pandas.util.testing is deprecated. Use the functions in the public API at pandas.testing instead.\n",
            "  import pandas.util.testing as tm\n"
          ]
        }
      ],
      "source": [
        "import pandas as pd\n",
        "from warnings import catch_warnings\n",
        "from warnings import filterwarnings\n",
        "from pandas import read_csv\n",
        "import io\n",
        "import matplotlib.pyplot as plt\n",
        "from datetime import datetime\n",
        "from math import sqrt\n",
        "from multiprocessing import cpu_count\n",
        "from joblib import Parallel\n",
        "from joblib import delayed\n",
        "from warnings import catch_warnings\n",
        "from warnings import filterwarnings\n",
        "from pandas.plotting import autocorrelation_plot\n",
        "from statsmodels.tsa.stattools import adfuller\n",
        "from statsmodels.tsa.stattools import kpss\n",
        "from sklearn.metrics import mean_squared_error\n",
        "from statsmodels.tsa.seasonal import seasonal_decompose\n",
        "from statsmodels.tsa.arima_model import ARIMA\n",
        "from statsmodels.graphics.tsaplots import plot_acf\n",
        "from statsmodels.graphics.tsaplots import plot_pacf\n",
        "from pandas import read_csv\n",
        "from tabulate import tabulate\n",
        "import pandas as pd\n",
        "import numpy as np\n",
        "import io\n",
        "import warnings\n",
        "import matplotlib.pyplot as plt\n",
        "from numpy import array\n",
        "from datetime import datetime\n",
        "from google.colab import files\n",
        "\n",
        "# Ignoring all warnings\n",
        "warnings.filterwarnings('ignore')"
      ]
    },
    {
      "cell_type": "code",
      "source": [
        "from google.colab import files\n",
        "uploaded = files.upload()"
      ],
      "metadata": {
        "colab": {
          "resources": {
            "http://localhost:8080/nbextensions/google.colab/files.js": {
              "data": "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",
              "ok": true,
              "headers": [
                [
                  "content-type",
                  "application/javascript"
                ]
              ],
              "status": 200,
              "status_text": ""
            }
          },
          "base_uri": "https://localhost:8080/",
          "height": 74
        },
        "id": "C9Ed8URSfD1x",
        "outputId": "e8afe970-d5a7-44d8-b9cc-8e47d8e6c35e"
      },
      "execution_count": null,
      "outputs": [
        {
          "output_type": "display_data",
          "data": {
            "text/plain": [
              "<IPython.core.display.HTML object>"
            ],
            "text/html": [
              "\n",
              "     <input type=\"file\" id=\"files-382a95e1-cf8f-4304-9c0f-c1c630f239fb\" name=\"files[]\" multiple disabled\n",
              "        style=\"border:none\" />\n",
              "     <output id=\"result-382a95e1-cf8f-4304-9c0f-c1c630f239fb\">\n",
              "      Upload widget is only available when the cell has been executed in the\n",
              "      current browser session. Please rerun this cell to enable.\n",
              "      </output>\n",
              "      <script src=\"/nbextensions/google.colab/files.js\"></script> "
            ]
          },
          "metadata": {}
        },
        {
          "output_type": "stream",
          "name": "stdout",
          "text": [
            "Saving Pak20.csv to Pak20.csv\n"
          ]
        }
      ]
    },
    {
      "cell_type": "code",
      "source": [
        "df = pd.read_csv('Pak20.csv')"
      ],
      "metadata": {
        "id": "fUBuktPufKnY"
      },
      "execution_count": null,
      "outputs": []
    },
    {
      "cell_type": "code",
      "source": [
        "df"
      ],
      "metadata": {
        "colab": {
          "base_uri": "https://localhost:8080/",
          "height": 1000
        },
        "id": "OtjaYyhafOKt",
        "outputId": "7a41d58f-8756-4e13-fcd2-89bada852edf"
      },
      "execution_count": null,
      "outputs": [
        {
          "output_type": "execute_result",
          "data": {
            "text/plain": [
              "    Date       Rate\n",
              "0   1981  23.832960\n",
              "1   1982        NaN\n",
              "2   1983        NaN\n",
              "3   1984        NaN\n",
              "4   1985        NaN\n",
              "5   1986        NaN\n",
              "6   1987        NaN\n",
              "7   1988  43.114052\n",
              "8   1989        NaN\n",
              "9   1990        NaN\n",
              "10  1991        NaN\n",
              "11  1992        NaN\n",
              "12  1993        NaN\n",
              "13  1994        NaN\n",
              "14  1995        NaN\n",
              "15  1996        NaN\n",
              "16  1997        NaN\n",
              "17  1998        NaN\n",
              "18  1999        NaN\n",
              "19  2000        NaN\n",
              "20  2001        NaN\n",
              "21  2002        NaN\n",
              "22  2003        NaN\n",
              "23  2004        NaN\n",
              "24  2005  53.088558\n",
              "25  2006  58.370560\n",
              "26  2007  56.784962\n",
              "27  2008  61.249920\n",
              "28  2009  61.462662\n",
              "29  2010  62.298370\n",
              "30  2011  63.136810\n",
              "31  2012  64.474098\n",
              "32  2013  63.438000\n",
              "33  2014  65.547791\n",
              "34  2015        NaN\n",
              "35  2016        NaN\n",
              "36  2017  67.537132\n",
              "37  2018  64.350052\n",
              "38  2019  65.185577\n",
              "39  2020        NaN"
            ],
            "text/html": [
              "\n",
              "  <div id=\"df-7e15277d-62f4-4ccd-86d6-5c7d79dc5b8b\">\n",
              "    <div class=\"colab-df-container\">\n",
              "      <div>\n",
              "<style scoped>\n",
              "    .dataframe tbody tr th:only-of-type {\n",
              "        vertical-align: middle;\n",
              "    }\n",
              "\n",
              "    .dataframe tbody tr th {\n",
              "        vertical-align: top;\n",
              "    }\n",
              "\n",
              "    .dataframe thead th {\n",
              "        text-align: right;\n",
              "    }\n",
              "</style>\n",
              "<table border=\"1\" class=\"dataframe\">\n",
              "  <thead>\n",
              "    <tr style=\"text-align: right;\">\n",
              "      <th></th>\n",
              "      <th>Date</th>\n",
              "      <th>Rate</th>\n",
              "    </tr>\n",
              "  </thead>\n",
              "  <tbody>\n",
              "    <tr>\n",
              "      <th>0</th>\n",
              "      <td>1981</td>\n",
              "      <td>23.832960</td>\n",
              "    </tr>\n",
              "    <tr>\n",
              "      <th>1</th>\n",
              "      <td>1982</td>\n",
              "      <td>NaN</td>\n",
              "    </tr>\n",
              "    <tr>\n",
              "      <th>2</th>\n",
              "      <td>1983</td>\n",
              "      <td>NaN</td>\n",
              "    </tr>\n",
              "    <tr>\n",
              "      <th>3</th>\n",
              "      <td>1984</td>\n",
              "      <td>NaN</td>\n",
              "    </tr>\n",
              "    <tr>\n",
              "      <th>4</th>\n",
              "      <td>1985</td>\n",
              "      <td>NaN</td>\n",
              "    </tr>\n",
              "    <tr>\n",
              "      <th>5</th>\n",
              "      <td>1986</td>\n",
              "      <td>NaN</td>\n",
              "    </tr>\n",
              "    <tr>\n",
              "      <th>6</th>\n",
              "      <td>1987</td>\n",
              "      <td>NaN</td>\n",
              "    </tr>\n",
              "    <tr>\n",
              "      <th>7</th>\n",
              "      <td>1988</td>\n",
              "      <td>43.114052</td>\n",
              "    </tr>\n",
              "    <tr>\n",
              "      <th>8</th>\n",
              "      <td>1989</td>\n",
              "      <td>NaN</td>\n",
              "    </tr>\n",
              "    <tr>\n",
              "      <th>9</th>\n",
              "      <td>1990</td>\n",
              "      <td>NaN</td>\n",
              "    </tr>\n",
              "    <tr>\n",
              "      <th>10</th>\n",
              "      <td>1991</td>\n",
              "      <td>NaN</td>\n",
              "    </tr>\n",
              "    <tr>\n",
              "      <th>11</th>\n",
              "      <td>1992</td>\n",
              "      <td>NaN</td>\n",
              "    </tr>\n",
              "    <tr>\n",
              "      <th>12</th>\n",
              "      <td>1993</td>\n",
              "      <td>NaN</td>\n",
              "    </tr>\n",
              "    <tr>\n",
              "      <th>13</th>\n",
              "      <td>1994</td>\n",
              "      <td>NaN</td>\n",
              "    </tr>\n",
              "    <tr>\n",
              "      <th>14</th>\n",
              "      <td>1995</td>\n",
              "      <td>NaN</td>\n",
              "    </tr>\n",
              "    <tr>\n",
              "      <th>15</th>\n",
              "      <td>1996</td>\n",
              "      <td>NaN</td>\n",
              "    </tr>\n",
              "    <tr>\n",
              "      <th>16</th>\n",
              "      <td>1997</td>\n",
              "      <td>NaN</td>\n",
              "    </tr>\n",
              "    <tr>\n",
              "      <th>17</th>\n",
              "      <td>1998</td>\n",
              "      <td>NaN</td>\n",
              "    </tr>\n",
              "    <tr>\n",
              "      <th>18</th>\n",
              "      <td>1999</td>\n",
              "      <td>NaN</td>\n",
              "    </tr>\n",
              "    <tr>\n",
              "      <th>19</th>\n",
              "      <td>2000</td>\n",
              "      <td>NaN</td>\n",
              "    </tr>\n",
              "    <tr>\n",
              "      <th>20</th>\n",
              "      <td>2001</td>\n",
              "      <td>NaN</td>\n",
              "    </tr>\n",
              "    <tr>\n",
              "      <th>21</th>\n",
              "      <td>2002</td>\n",
              "      <td>NaN</td>\n",
              "    </tr>\n",
              "    <tr>\n",
              "      <th>22</th>\n",
              "      <td>2003</td>\n",
              "      <td>NaN</td>\n",
              "    </tr>\n",
              "    <tr>\n",
              "      <th>23</th>\n",
              "      <td>2004</td>\n",
              "      <td>NaN</td>\n",
              "    </tr>\n",
              "    <tr>\n",
              "      <th>24</th>\n",
              "      <td>2005</td>\n",
              "      <td>53.088558</td>\n",
              "    </tr>\n",
              "    <tr>\n",
              "      <th>25</th>\n",
              "      <td>2006</td>\n",
              "      <td>58.370560</td>\n",
              "    </tr>\n",
              "    <tr>\n",
              "      <th>26</th>\n",
              "      <td>2007</td>\n",
              "      <td>56.784962</td>\n",
              "    </tr>\n",
              "    <tr>\n",
              "      <th>27</th>\n",
              "      <td>2008</td>\n",
              "      <td>61.249920</td>\n",
              "    </tr>\n",
              "    <tr>\n",
              "      <th>28</th>\n",
              "      <td>2009</td>\n",
              "      <td>61.462662</td>\n",
              "    </tr>\n",
              "    <tr>\n",
              "      <th>29</th>\n",
              "      <td>2010</td>\n",
              "      <td>62.298370</td>\n",
              "    </tr>\n",
              "    <tr>\n",
              "      <th>30</th>\n",
              "      <td>2011</td>\n",
              "      <td>63.136810</td>\n",
              "    </tr>\n",
              "    <tr>\n",
              "      <th>31</th>\n",
              "      <td>2012</td>\n",
              "      <td>64.474098</td>\n",
              "    </tr>\n",
              "    <tr>\n",
              "      <th>32</th>\n",
              "      <td>2013</td>\n",
              "      <td>63.438000</td>\n",
              "    </tr>\n",
              "    <tr>\n",
              "      <th>33</th>\n",
              "      <td>2014</td>\n",
              "      <td>65.547791</td>\n",
              "    </tr>\n",
              "    <tr>\n",
              "      <th>34</th>\n",
              "      <td>2015</td>\n",
              "      <td>NaN</td>\n",
              "    </tr>\n",
              "    <tr>\n",
              "      <th>35</th>\n",
              "      <td>2016</td>\n",
              "      <td>NaN</td>\n",
              "    </tr>\n",
              "    <tr>\n",
              "      <th>36</th>\n",
              "      <td>2017</td>\n",
              "      <td>67.537132</td>\n",
              "    </tr>\n",
              "    <tr>\n",
              "      <th>37</th>\n",
              "      <td>2018</td>\n",
              "      <td>64.350052</td>\n",
              "    </tr>\n",
              "    <tr>\n",
              "      <th>38</th>\n",
              "      <td>2019</td>\n",
              "      <td>65.185577</td>\n",
              "    </tr>\n",
              "    <tr>\n",
              "      <th>39</th>\n",
              "      <td>2020</td>\n",
              "      <td>NaN</td>\n",
              "    </tr>\n",
              "  </tbody>\n",
              "</table>\n",
              "</div>\n",
              "      <button class=\"colab-df-convert\" onclick=\"convertToInteractive('df-7e15277d-62f4-4ccd-86d6-5c7d79dc5b8b')\"\n",
              "              title=\"Convert this dataframe to an interactive table.\"\n",
              "              style=\"display:none;\">\n",
              "        \n",
              "  <svg xmlns=\"http://www.w3.org/2000/svg\" height=\"24px\"viewBox=\"0 0 24 24\"\n",
              "       width=\"24px\">\n",
              "    <path d=\"M0 0h24v24H0V0z\" fill=\"none\"/>\n",
              "    <path d=\"M18.56 5.44l.94 2.06.94-2.06 2.06-.94-2.06-.94-.94-2.06-.94 2.06-2.06.94zm-11 1L8.5 8.5l.94-2.06 2.06-.94-2.06-.94L8.5 2.5l-.94 2.06-2.06.94zm10 10l.94 2.06.94-2.06 2.06-.94-2.06-.94-.94-2.06-.94 2.06-2.06.94z\"/><path d=\"M17.41 7.96l-1.37-1.37c-.4-.4-.92-.59-1.43-.59-.52 0-1.04.2-1.43.59L10.3 9.45l-7.72 7.72c-.78.78-.78 2.05 0 2.83L4 21.41c.39.39.9.59 1.41.59.51 0 1.02-.2 1.41-.59l7.78-7.78 2.81-2.81c.8-.78.8-2.07 0-2.86zM5.41 20L4 18.59l7.72-7.72 1.47 1.35L5.41 20z\"/>\n",
              "  </svg>\n",
              "      </button>\n",
              "      \n",
              "  <style>\n",
              "    .colab-df-container {\n",
              "      display:flex;\n",
              "      flex-wrap:wrap;\n",
              "      gap: 12px;\n",
              "    }\n",
              "\n",
              "    .colab-df-convert {\n",
              "      background-color: #E8F0FE;\n",
              "      border: none;\n",
              "      border-radius: 50%;\n",
              "      cursor: pointer;\n",
              "      display: none;\n",
              "      fill: #1967D2;\n",
              "      height: 32px;\n",
              "      padding: 0 0 0 0;\n",
              "      width: 32px;\n",
              "    }\n",
              "\n",
              "    .colab-df-convert:hover {\n",
              "      background-color: #E2EBFA;\n",
              "      box-shadow: 0px 1px 2px rgba(60, 64, 67, 0.3), 0px 1px 3px 1px rgba(60, 64, 67, 0.15);\n",
              "      fill: #174EA6;\n",
              "    }\n",
              "\n",
              "    [theme=dark] .colab-df-convert {\n",
              "      background-color: #3B4455;\n",
              "      fill: #D2E3FC;\n",
              "    }\n",
              "\n",
              "    [theme=dark] .colab-df-convert:hover {\n",
              "      background-color: #434B5C;\n",
              "      box-shadow: 0px 1px 3px 1px rgba(0, 0, 0, 0.15);\n",
              "      filter: drop-shadow(0px 1px 2px rgba(0, 0, 0, 0.3));\n",
              "      fill: #FFFFFF;\n",
              "    }\n",
              "  </style>\n",
              "\n",
              "      <script>\n",
              "        const buttonEl =\n",
              "          document.querySelector('#df-7e15277d-62f4-4ccd-86d6-5c7d79dc5b8b button.colab-df-convert');\n",
              "        buttonEl.style.display =\n",
              "          google.colab.kernel.accessAllowed ? 'block' : 'none';\n",
              "\n",
              "        async function convertToInteractive(key) {\n",
              "          const element = document.querySelector('#df-7e15277d-62f4-4ccd-86d6-5c7d79dc5b8b');\n",
              "          const dataTable =\n",
              "            await google.colab.kernel.invokeFunction('convertToInteractive',\n",
              "                                                     [key], {});\n",
              "          if (!dataTable) return;\n",
              "\n",
              "          const docLinkHtml = 'Like what you see? Visit the ' +\n",
              "            '<a target=\"_blank\" href=https://colab.research.google.com/notebooks/data_table.ipynb>data table notebook</a>'\n",
              "            + ' to learn more about interactive tables.';\n",
              "          element.innerHTML = '';\n",
              "          dataTable['output_type'] = 'display_data';\n",
              "          await google.colab.output.renderOutput(dataTable, element);\n",
              "          const docLink = document.createElement('div');\n",
              "          docLink.innerHTML = docLinkHtml;\n",
              "          element.appendChild(docLink);\n",
              "        }\n",
              "      </script>\n",
              "    </div>\n",
              "  </div>\n",
              "  "
            ]
          },
          "metadata": {},
          "execution_count": 4
        }
      ]
    },
    {
      "cell_type": "code",
      "source": [
        "df1 = df.interpolate(method=\"linear\", limit_direction='both')"
      ],
      "metadata": {
        "id": "fSXVuZ2BfTiT"
      },
      "execution_count": null,
      "outputs": []
    },
    {
      "cell_type": "code",
      "source": [
        "df1"
      ],
      "metadata": {
        "colab": {
          "base_uri": "https://localhost:8080/",
          "height": 1000
        },
        "id": "0L6ebSbefVFB",
        "outputId": "39515d7b-62b2-484c-ed63-ec5e1095a05a"
      },
      "execution_count": null,
      "outputs": [
        {
          "output_type": "execute_result",
          "data": {
            "text/plain": [
              "    Date       Rate\n",
              "0   1981  23.832960\n",
              "1   1982  26.587402\n",
              "2   1983  29.341843\n",
              "3   1984  32.096285\n",
              "4   1985  34.850727\n",
              "5   1986  37.605168\n",
              "6   1987  40.359610\n",
              "7   1988  43.114052\n",
              "8   1989  43.700787\n",
              "9   1990  44.287523\n",
              "10  1991  44.874259\n",
              "11  1992  45.460994\n",
              "12  1993  46.047730\n",
              "13  1994  46.634466\n",
              "14  1995  47.221202\n",
              "15  1996  47.807937\n",
              "16  1997  48.394673\n",
              "17  1998  48.981409\n",
              "18  1999  49.568144\n",
              "19  2000  50.154880\n",
              "20  2001  50.741616\n",
              "21  2002  51.328351\n",
              "22  2003  51.915087\n",
              "23  2004  52.501823\n",
              "24  2005  53.088558\n",
              "25  2006  58.370560\n",
              "26  2007  56.784962\n",
              "27  2008  61.249920\n",
              "28  2009  61.462662\n",
              "29  2010  62.298370\n",
              "30  2011  63.136810\n",
              "31  2012  64.474098\n",
              "32  2013  63.438000\n",
              "33  2014  65.547791\n",
              "34  2015  66.210904\n",
              "35  2016  66.874018\n",
              "36  2017  67.537132\n",
              "37  2018  64.350052\n",
              "38  2019  65.185577\n",
              "39  2020  65.185577"
            ],
            "text/html": [
              "\n",
              "  <div id=\"df-ecfef2d7-1c20-41dd-94b9-2854a083fefb\">\n",
              "    <div class=\"colab-df-container\">\n",
              "      <div>\n",
              "<style scoped>\n",
              "    .dataframe tbody tr th:only-of-type {\n",
              "        vertical-align: middle;\n",
              "    }\n",
              "\n",
              "    .dataframe tbody tr th {\n",
              "        vertical-align: top;\n",
              "    }\n",
              "\n",
              "    .dataframe thead th {\n",
              "        text-align: right;\n",
              "    }\n",
              "</style>\n",
              "<table border=\"1\" class=\"dataframe\">\n",
              "  <thead>\n",
              "    <tr style=\"text-align: right;\">\n",
              "      <th></th>\n",
              "      <th>Date</th>\n",
              "      <th>Rate</th>\n",
              "    </tr>\n",
              "  </thead>\n",
              "  <tbody>\n",
              "    <tr>\n",
              "      <th>0</th>\n",
              "      <td>1981</td>\n",
              "      <td>23.832960</td>\n",
              "    </tr>\n",
              "    <tr>\n",
              "      <th>1</th>\n",
              "      <td>1982</td>\n",
              "      <td>26.587402</td>\n",
              "    </tr>\n",
              "    <tr>\n",
              "      <th>2</th>\n",
              "      <td>1983</td>\n",
              "      <td>29.341843</td>\n",
              "    </tr>\n",
              "    <tr>\n",
              "      <th>3</th>\n",
              "      <td>1984</td>\n",
              "      <td>32.096285</td>\n",
              "    </tr>\n",
              "    <tr>\n",
              "      <th>4</th>\n",
              "      <td>1985</td>\n",
              "      <td>34.850727</td>\n",
              "    </tr>\n",
              "    <tr>\n",
              "      <th>5</th>\n",
              "      <td>1986</td>\n",
              "      <td>37.605168</td>\n",
              "    </tr>\n",
              "    <tr>\n",
              "      <th>6</th>\n",
              "      <td>1987</td>\n",
              "      <td>40.359610</td>\n",
              "    </tr>\n",
              "    <tr>\n",
              "      <th>7</th>\n",
              "      <td>1988</td>\n",
              "      <td>43.114052</td>\n",
              "    </tr>\n",
              "    <tr>\n",
              "      <th>8</th>\n",
              "      <td>1989</td>\n",
              "      <td>43.700787</td>\n",
              "    </tr>\n",
              "    <tr>\n",
              "      <th>9</th>\n",
              "      <td>1990</td>\n",
              "      <td>44.287523</td>\n",
              "    </tr>\n",
              "    <tr>\n",
              "      <th>10</th>\n",
              "      <td>1991</td>\n",
              "      <td>44.874259</td>\n",
              "    </tr>\n",
              "    <tr>\n",
              "      <th>11</th>\n",
              "      <td>1992</td>\n",
              "      <td>45.460994</td>\n",
              "    </tr>\n",
              "    <tr>\n",
              "      <th>12</th>\n",
              "      <td>1993</td>\n",
              "      <td>46.047730</td>\n",
              "    </tr>\n",
              "    <tr>\n",
              "      <th>13</th>\n",
              "      <td>1994</td>\n",
              "      <td>46.634466</td>\n",
              "    </tr>\n",
              "    <tr>\n",
              "      <th>14</th>\n",
              "      <td>1995</td>\n",
              "      <td>47.221202</td>\n",
              "    </tr>\n",
              "    <tr>\n",
              "      <th>15</th>\n",
              "      <td>1996</td>\n",
              "      <td>47.807937</td>\n",
              "    </tr>\n",
              "    <tr>\n",
              "      <th>16</th>\n",
              "      <td>1997</td>\n",
              "      <td>48.394673</td>\n",
              "    </tr>\n",
              "    <tr>\n",
              "      <th>17</th>\n",
              "      <td>1998</td>\n",
              "      <td>48.981409</td>\n",
              "    </tr>\n",
              "    <tr>\n",
              "      <th>18</th>\n",
              "      <td>1999</td>\n",
              "      <td>49.568144</td>\n",
              "    </tr>\n",
              "    <tr>\n",
              "      <th>19</th>\n",
              "      <td>2000</td>\n",
              "      <td>50.154880</td>\n",
              "    </tr>\n",
              "    <tr>\n",
              "      <th>20</th>\n",
              "      <td>2001</td>\n",
              "      <td>50.741616</td>\n",
              "    </tr>\n",
              "    <tr>\n",
              "      <th>21</th>\n",
              "      <td>2002</td>\n",
              "      <td>51.328351</td>\n",
              "    </tr>\n",
              "    <tr>\n",
              "      <th>22</th>\n",
              "      <td>2003</td>\n",
              "      <td>51.915087</td>\n",
              "    </tr>\n",
              "    <tr>\n",
              "      <th>23</th>\n",
              "      <td>2004</td>\n",
              "      <td>52.501823</td>\n",
              "    </tr>\n",
              "    <tr>\n",
              "      <th>24</th>\n",
              "      <td>2005</td>\n",
              "      <td>53.088558</td>\n",
              "    </tr>\n",
              "    <tr>\n",
              "      <th>25</th>\n",
              "      <td>2006</td>\n",
              "      <td>58.370560</td>\n",
              "    </tr>\n",
              "    <tr>\n",
              "      <th>26</th>\n",
              "      <td>2007</td>\n",
              "      <td>56.784962</td>\n",
              "    </tr>\n",
              "    <tr>\n",
              "      <th>27</th>\n",
              "      <td>2008</td>\n",
              "      <td>61.249920</td>\n",
              "    </tr>\n",
              "    <tr>\n",
              "      <th>28</th>\n",
              "      <td>2009</td>\n",
              "      <td>61.462662</td>\n",
              "    </tr>\n",
              "    <tr>\n",
              "      <th>29</th>\n",
              "      <td>2010</td>\n",
              "      <td>62.298370</td>\n",
              "    </tr>\n",
              "    <tr>\n",
              "      <th>30</th>\n",
              "      <td>2011</td>\n",
              "      <td>63.136810</td>\n",
              "    </tr>\n",
              "    <tr>\n",
              "      <th>31</th>\n",
              "      <td>2012</td>\n",
              "      <td>64.474098</td>\n",
              "    </tr>\n",
              "    <tr>\n",
              "      <th>32</th>\n",
              "      <td>2013</td>\n",
              "      <td>63.438000</td>\n",
              "    </tr>\n",
              "    <tr>\n",
              "      <th>33</th>\n",
              "      <td>2014</td>\n",
              "      <td>65.547791</td>\n",
              "    </tr>\n",
              "    <tr>\n",
              "      <th>34</th>\n",
              "      <td>2015</td>\n",
              "      <td>66.210904</td>\n",
              "    </tr>\n",
              "    <tr>\n",
              "      <th>35</th>\n",
              "      <td>2016</td>\n",
              "      <td>66.874018</td>\n",
              "    </tr>\n",
              "    <tr>\n",
              "      <th>36</th>\n",
              "      <td>2017</td>\n",
              "      <td>67.537132</td>\n",
              "    </tr>\n",
              "    <tr>\n",
              "      <th>37</th>\n",
              "      <td>2018</td>\n",
              "      <td>64.350052</td>\n",
              "    </tr>\n",
              "    <tr>\n",
              "      <th>38</th>\n",
              "      <td>2019</td>\n",
              "      <td>65.185577</td>\n",
              "    </tr>\n",
              "    <tr>\n",
              "      <th>39</th>\n",
              "      <td>2020</td>\n",
              "      <td>65.185577</td>\n",
              "    </tr>\n",
              "  </tbody>\n",
              "</table>\n",
              "</div>\n",
              "      <button class=\"colab-df-convert\" onclick=\"convertToInteractive('df-ecfef2d7-1c20-41dd-94b9-2854a083fefb')\"\n",
              "              title=\"Convert this dataframe to an interactive table.\"\n",
              "              style=\"display:none;\">\n",
              "        \n",
              "  <svg xmlns=\"http://www.w3.org/2000/svg\" height=\"24px\"viewBox=\"0 0 24 24\"\n",
              "       width=\"24px\">\n",
              "    <path d=\"M0 0h24v24H0V0z\" fill=\"none\"/>\n",
              "    <path d=\"M18.56 5.44l.94 2.06.94-2.06 2.06-.94-2.06-.94-.94-2.06-.94 2.06-2.06.94zm-11 1L8.5 8.5l.94-2.06 2.06-.94-2.06-.94L8.5 2.5l-.94 2.06-2.06.94zm10 10l.94 2.06.94-2.06 2.06-.94-2.06-.94-.94-2.06-.94 2.06-2.06.94z\"/><path d=\"M17.41 7.96l-1.37-1.37c-.4-.4-.92-.59-1.43-.59-.52 0-1.04.2-1.43.59L10.3 9.45l-7.72 7.72c-.78.78-.78 2.05 0 2.83L4 21.41c.39.39.9.59 1.41.59.51 0 1.02-.2 1.41-.59l7.78-7.78 2.81-2.81c.8-.78.8-2.07 0-2.86zM5.41 20L4 18.59l7.72-7.72 1.47 1.35L5.41 20z\"/>\n",
              "  </svg>\n",
              "      </button>\n",
              "      \n",
              "  <style>\n",
              "    .colab-df-container {\n",
              "      display:flex;\n",
              "      flex-wrap:wrap;\n",
              "      gap: 12px;\n",
              "    }\n",
              "\n",
              "    .colab-df-convert {\n",
              "      background-color: #E8F0FE;\n",
              "      border: none;\n",
              "      border-radius: 50%;\n",
              "      cursor: pointer;\n",
              "      display: none;\n",
              "      fill: #1967D2;\n",
              "      height: 32px;\n",
              "      padding: 0 0 0 0;\n",
              "      width: 32px;\n",
              "    }\n",
              "\n",
              "    .colab-df-convert:hover {\n",
              "      background-color: #E2EBFA;\n",
              "      box-shadow: 0px 1px 2px rgba(60, 64, 67, 0.3), 0px 1px 3px 1px rgba(60, 64, 67, 0.15);\n",
              "      fill: #174EA6;\n",
              "    }\n",
              "\n",
              "    [theme=dark] .colab-df-convert {\n",
              "      background-color: #3B4455;\n",
              "      fill: #D2E3FC;\n",
              "    }\n",
              "\n",
              "    [theme=dark] .colab-df-convert:hover {\n",
              "      background-color: #434B5C;\n",
              "      box-shadow: 0px 1px 3px 1px rgba(0, 0, 0, 0.15);\n",
              "      filter: drop-shadow(0px 1px 2px rgba(0, 0, 0, 0.3));\n",
              "      fill: #FFFFFF;\n",
              "    }\n",
              "  </style>\n",
              "\n",
              "      <script>\n",
              "        const buttonEl =\n",
              "          document.querySelector('#df-ecfef2d7-1c20-41dd-94b9-2854a083fefb button.colab-df-convert');\n",
              "        buttonEl.style.display =\n",
              "          google.colab.kernel.accessAllowed ? 'block' : 'none';\n",
              "\n",
              "        async function convertToInteractive(key) {\n",
              "          const element = document.querySelector('#df-ecfef2d7-1c20-41dd-94b9-2854a083fefb');\n",
              "          const dataTable =\n",
              "            await google.colab.kernel.invokeFunction('convertToInteractive',\n",
              "                                                     [key], {});\n",
              "          if (!dataTable) return;\n",
              "\n",
              "          const docLinkHtml = 'Like what you see? Visit the ' +\n",
              "            '<a target=\"_blank\" href=https://colab.research.google.com/notebooks/data_table.ipynb>data table notebook</a>'\n",
              "            + ' to learn more about interactive tables.';\n",
              "          element.innerHTML = '';\n",
              "          dataTable['output_type'] = 'display_data';\n",
              "          await google.colab.output.renderOutput(dataTable, element);\n",
              "          const docLink = document.createElement('div');\n",
              "          docLink.innerHTML = docLinkHtml;\n",
              "          element.appendChild(docLink);\n",
              "        }\n",
              "      </script>\n",
              "    </div>\n",
              "  </div>\n",
              "  "
            ]
          },
          "metadata": {},
          "execution_count": 6
        }
      ]
    },
    {
      "cell_type": "code",
      "source": [
        "from matplotlib.image import imread\n",
        "plt.figure(figsize=(12, 8), dpi=150)\n",
        "plt.figure(facecolor='blue')\n",
        "#img = imread(\"gbg1.jpeg\")\n",
        "#plt.imshow(img)\n",
        "plt.plot(df1['Date'], df1['Rate'])\n",
        "\n",
        "# Giving x label using xlabel() method\n",
        "# with bold setting\n",
        "plt.xlabel(\"Year\", fontweight='bold')\n",
        "ax = plt.axes()\n",
        "\n",
        "# Setting the background color of the plot\n",
        "# using set_facecolor() method\n",
        "ax.set_facecolor(\"beige\")\n",
        "\n",
        "# Giving y label using xlabel() method\n",
        "# with bold setting\n",
        "plt.ylabel(\"Literacy Rate\", fontweight='bold')\n",
        "\n",
        "# Giving title to the plot\n",
        "plt.title(\"Literacy rate of Female Youth in Pakistan\")\n",
        "\n",
        "# Showing the plot using plt.show()\n",
        "plt.show()"
      ],
      "metadata": {
        "colab": {
          "base_uri": "https://localhost:8080/",
          "height": 313
        },
        "id": "Jym5yw2LUKke",
        "outputId": "d6e50bf8-6b6b-415a-d975-bea621032af4"
      },
      "execution_count": null,
      "outputs": [
        {
          "output_type": "display_data",
          "data": {
            "text/plain": [
              "<Figure size 1800x1200 with 0 Axes>"
            ]
          },
          "metadata": {}
        },
        {
          "output_type": "display_data",
          "data": {
            "text/plain": [
              "<Figure size 432x288 with 1 Axes>"
            ],
            "image/png": "[encoded data removed]"
          },
          "metadata": {}
        }
      ]
    },
    {
      "cell_type": "code",
      "source": [
        "df1.plot(x= 'Date', y = 'Rate')"
      ],
      "metadata": {
        "colab": {
          "base_uri": "https://localhost:8080/",
          "height": 297
        },
        "id": "aFv52ugDp1Xh",
        "outputId": "fd0941ce-15d8-46be-a054-58433284614e"
      },
      "execution_count": null,
      "outputs": [
        {
          "output_type": "execute_result",
          "data": {
            "text/plain": [
              "<matplotlib.axes._subplots.AxesSubplot at 0x7f20204b65d0>"
            ]
          },
          "metadata": {},
          "execution_count": 9
        },
        {
          "output_type": "display_data",
          "data": {
            "text/plain": [
              "<Figure size 432x288 with 1 Axes>"
            ],
            "image/png": "[encoded data removed]"
          },
          "metadata": {
            "needs_background": "light"
          }
        }
      ]
    },
    {
      "cell_type": "code",
      "source": [
        "df1.describe()"
      ],
      "metadata": {
        "colab": {
          "base_uri": "https://localhost:8080/",
          "height": 300
        },
        "id": "IA23l1zNffE3",
        "outputId": "2dbe4e6d-1e14-4f37-fd45-af364eeaf013"
      },
      "execution_count": null,
      "outputs": [
        {
          "output_type": "execute_result",
          "data": {
            "text/plain": [
              "              Date       Rate\n",
              "count    40.000000  40.000000\n",
              "mean   2000.500000  51.065098\n",
              "std      11.690452  11.869419\n",
              "min    1981.000000  23.832960\n",
              "25%    1990.750000  44.727575\n",
              "50%    2000.500000  50.448248\n",
              "75%    2010.250000  62.507980\n",
              "max    2020.000000  67.537132"
            ],
            "text/html": [
              "\n",
              "  <div id=\"df-3d4c7b7b-01e7-496e-b0c3-0b83d7811223\">\n",
              "    <div class=\"colab-df-container\">\n",
              "      <div>\n",
              "<style scoped>\n",
              "    .dataframe tbody tr th:only-of-type {\n",
              "        vertical-align: middle;\n",
              "    }\n",
              "\n",
              "    .dataframe tbody tr th {\n",
              "        vertical-align: top;\n",
              "    }\n",
              "\n",
              "    .dataframe thead th {\n",
              "        text-align: right;\n",
              "    }\n",
              "</style>\n",
              "<table border=\"1\" class=\"dataframe\">\n",
              "  <thead>\n",
              "    <tr style=\"text-align: right;\">\n",
              "      <th></th>\n",
              "      <th>Date</th>\n",
              "      <th>Rate</th>\n",
              "    </tr>\n",
              "  </thead>\n",
              "  <tbody>\n",
              "    <tr>\n",
              "      <th>count</th>\n",
              "      <td>40.000000</td>\n",
              "      <td>40.000000</td>\n",
              "    </tr>\n",
              "    <tr>\n",
              "      <th>mean</th>\n",
              "      <td>2000.500000</td>\n",
              "      <td>51.065098</td>\n",
              "    </tr>\n",
              "    <tr>\n",
              "      <th>std</th>\n",
              "      <td>11.690452</td>\n",
              "      <td>11.869419</td>\n",
              "    </tr>\n",
              "    <tr>\n",
              "      <th>min</th>\n",
              "      <td>1981.000000</td>\n",
              "      <td>23.832960</td>\n",
              "    </tr>\n",
              "    <tr>\n",
              "      <th>25%</th>\n",
              "      <td>1990.750000</td>\n",
              "      <td>44.727575</td>\n",
              "    </tr>\n",
              "    <tr>\n",
              "      <th>50%</th>\n",
              "      <td>2000.500000</td>\n",
              "      <td>50.448248</td>\n",
              "    </tr>\n",
              "    <tr>\n",
              "      <th>75%</th>\n",
              "      <td>2010.250000</td>\n",
              "      <td>62.507980</td>\n",
              "    </tr>\n",
              "    <tr>\n",
              "      <th>max</th>\n",
              "      <td>2020.000000</td>\n",
              "      <td>67.537132</td>\n",
              "    </tr>\n",
              "  </tbody>\n",
              "</table>\n",
              "</div>\n",
              "      <button class=\"colab-df-convert\" onclick=\"convertToInteractive('df-3d4c7b7b-01e7-496e-b0c3-0b83d7811223')\"\n",
              "              title=\"Convert this dataframe to an interactive table.\"\n",
              "              style=\"display:none;\">\n",
              "        \n",
              "  <svg xmlns=\"http://www.w3.org/2000/svg\" height=\"24px\"viewBox=\"0 0 24 24\"\n",
              "       width=\"24px\">\n",
              "    <path d=\"M0 0h24v24H0V0z\" fill=\"none\"/>\n",
              "    <path d=\"M18.56 5.44l.94 2.06.94-2.06 2.06-.94-2.06-.94-.94-2.06-.94 2.06-2.06.94zm-11 1L8.5 8.5l.94-2.06 2.06-.94-2.06-.94L8.5 2.5l-.94 2.06-2.06.94zm10 10l.94 2.06.94-2.06 2.06-.94-2.06-.94-.94-2.06-.94 2.06-2.06.94z\"/><path d=\"M17.41 7.96l-1.37-1.37c-.4-.4-.92-.59-1.43-.59-.52 0-1.04.2-1.43.59L10.3 9.45l-7.72 7.72c-.78.78-.78 2.05 0 2.83L4 21.41c.39.39.9.59 1.41.59.51 0 1.02-.2 1.41-.59l7.78-7.78 2.81-2.81c.8-.78.8-2.07 0-2.86zM5.41 20L4 18.59l7.72-7.72 1.47 1.35L5.41 20z\"/>\n",
              "  </svg>\n",
              "      </button>\n",
              "      \n",
              "  <style>\n",
              "    .colab-df-container {\n",
              "      display:flex;\n",
              "      flex-wrap:wrap;\n",
              "      gap: 12px;\n",
              "    }\n",
              "\n",
              "    .colab-df-convert {\n",
              "      background-color: #E8F0FE;\n",
              "      border: none;\n",
              "      border-radius: 50%;\n",
              "      cursor: pointer;\n",
              "      display: none;\n",
              "      fill: #1967D2;\n",
              "      height: 32px;\n",
              "      padding: 0 0 0 0;\n",
              "      width: 32px;\n",
              "    }\n",
              "\n",
              "    .colab-df-convert:hover {\n",
              "      background-color: #E2EBFA;\n",
              "      box-shadow: 0px 1px 2px rgba(60, 64, 67, 0.3), 0px 1px 3px 1px rgba(60, 64, 67, 0.15);\n",
              "      fill: #174EA6;\n",
              "    }\n",
              "\n",
              "    [theme=dark] .colab-df-convert {\n",
              "      background-color: #3B4455;\n",
              "      fill: #D2E3FC;\n",
              "    }\n",
              "\n",
              "    [theme=dark] .colab-df-convert:hover {\n",
              "      background-color: #434B5C;\n",
              "      box-shadow: 0px 1px 3px 1px rgba(0, 0, 0, 0.15);\n",
              "      filter: drop-shadow(0px 1px 2px rgba(0, 0, 0, 0.3));\n",
              "      fill: #FFFFFF;\n",
              "    }\n",
              "  </style>\n",
              "\n",
              "      <script>\n",
              "        const buttonEl =\n",
              "          document.querySelector('#df-3d4c7b7b-01e7-496e-b0c3-0b83d7811223 button.colab-df-convert');\n",
              "        buttonEl.style.display =\n",
              "          google.colab.kernel.accessAllowed ? 'block' : 'none';\n",
              "\n",
              "        async function convertToInteractive(key) {\n",
              "          const element = document.querySelector('#df-3d4c7b7b-01e7-496e-b0c3-0b83d7811223');\n",
              "          const dataTable =\n",
              "            await google.colab.kernel.invokeFunction('convertToInteractive',\n",
              "                                                     [key], {});\n",
              "          if (!dataTable) return;\n",
              "\n",
              "          const docLinkHtml = 'Like what you see? Visit the ' +\n",
              "            '<a target=\"_blank\" href=https://colab.research.google.com/notebooks/data_table.ipynb>data table notebook</a>'\n",
              "            + ' to learn more about interactive tables.';\n",
              "          element.innerHTML = '';\n",
              "          dataTable['output_type'] = 'display_data';\n",
              "          await google.colab.output.renderOutput(dataTable, element);\n",
              "          const docLink = document.createElement('div');\n",
              "          docLink.innerHTML = docLinkHtml;\n",
              "          element.appendChild(docLink);\n",
              "        }\n",
              "      </script>\n",
              "    </div>\n",
              "  </div>\n",
              "  "
            ]
          },
          "metadata": {},
          "execution_count": 9
        }
      ]
    },
    {
      "cell_type": "code",
      "source": [
        "autocorrelation_plot(df1['Rate'])\n",
        "plt.show()"
      ],
      "metadata": {
        "colab": {
          "base_uri": "https://localhost:8080/",
          "height": 283
        },
        "id": "vTgDUXenfjM5",
        "outputId": "6c229aa3-42b6-417a-cded-a383689bd631"
      },
      "execution_count": null,
      "outputs": [
        {
          "output_type": "display_data",
          "data": {
            "text/plain": [
              "<Figure size 432x288 with 1 Axes>"
            ],
            "image/png": "[encoded data removed]"
          },
          "metadata": {
            "needs_background": "light"
          }
        }
      ]
    },
    {
      "cell_type": "code",
      "source": [
        "plot_acf(df1['Rate'])\n",
        "plt.show()"
      ],
      "metadata": {
        "colab": {
          "base_uri": "https://localhost:8080/",
          "height": 281
        },
        "id": "6BKlNWphqH0t",
        "outputId": "ee88d232-3ac1-4ea7-f552-6534cf52aa06"
      },
      "execution_count": null,
      "outputs": [
        {
          "output_type": "display_data",
          "data": {
            "text/plain": [
              "<Figure size 432x288 with 1 Axes>"
            ],
            "image/png": "[encoded data removed]"
          },
          "metadata": {
            "needs_background": "light"
          }
        }
      ]
    },
    {
      "cell_type": "code",
      "source": [
        "plot_acf(df1['Rate'], lags = 2)\n",
        "plt.show()"
      ],
      "metadata": {
        "colab": {
          "base_uri": "https://localhost:8080/",
          "height": 281
        },
        "id": "2COlcPGofzH9",
        "outputId": "e6b69255-8d81-4e9f-a21c-29ef03ba3b81"
      },
      "execution_count": null,
      "outputs": [
        {
          "output_type": "display_data",
          "data": {
            "text/plain": [
              "<Figure size 432x288 with 1 Axes>"
            ],
            "image/png": "[encoded data removed]"
          },
          "metadata": {
            "needs_background": "light"
          }
        }
      ]
    },
    {
      "cell_type": "code",
      "source": [
        "plot_acf(df1['Rate'], lags = 5)\n",
        "plt.show()"
      ],
      "metadata": {
        "colab": {
          "base_uri": "https://localhost:8080/",
          "height": 281
        },
        "id": "zj2gNIz_f2Nb",
        "outputId": "d6f72365-1a3b-457c-d7ce-3e26b3e629ff"
      },
      "execution_count": null,
      "outputs": [
        {
          "output_type": "display_data",
          "data": {
            "text/plain": [
              "<Figure size 432x288 with 1 Axes>"
            ],
            "image/png": "[encoded data removed]"
          },
          "metadata": {
            "needs_background": "light"
          }
        }
      ]
    },
    {
      "cell_type": "code",
      "source": [
        "plot_acf(df1['Rate'], lags = 4)\n",
        "plt.show()"
      ],
      "metadata": {
        "colab": {
          "base_uri": "https://localhost:8080/",
          "height": 281
        },
        "id": "M3AaFrEff4-h",
        "outputId": "3abb30c3-858d-4294-e203-54fd42253f08"
      },
      "execution_count": null,
      "outputs": [
        {
          "output_type": "display_data",
          "data": {
            "text/plain": [
              "<Figure size 432x288 with 1 Axes>"
            ],
            "image/png": "[encoded data removed]"
          },
          "metadata": {
            "needs_background": "light"
          }
        }
      ]
    },
    {
      "cell_type": "code",
      "source": [
        "plot_pacf(df1['Rate'])\n",
        "plt.show()"
      ],
      "metadata": {
        "colab": {
          "base_uri": "https://localhost:8080/",
          "height": 281
        },
        "id": "H8CHiQF5f_F_",
        "outputId": "76a68225-b53f-4f5e-9f61-ca06ed9a5cd0"
      },
      "execution_count": null,
      "outputs": [
        {
          "output_type": "display_data",
          "data": {
            "text/plain": [
              "<Figure size 432x288 with 1 Axes>"
            ],
            "image/png": "[encoded data removed]"
          },
          "metadata": {
            "needs_background": "light"
          }
        }
      ]
    },
    {
      "cell_type": "code",
      "source": [
        "plot_pacf(df1['Rate'], lags =2)\n",
        "plt.show()"
      ],
      "metadata": {
        "colab": {
          "base_uri": "https://localhost:8080/",
          "height": 281
        },
        "id": "dq-alfKWgDls",
        "outputId": "0bcc7567-625e-4128-d3f4-14d34148b3a6"
      },
      "execution_count": null,
      "outputs": [
        {
          "output_type": "display_data",
          "data": {
            "text/plain": [
              "<Figure size 432x288 with 1 Axes>"
            ],
            "image/png": "[encoded data removed]"
          },
          "metadata": {
            "needs_background": "light"
          }
        }
      ]
    },
    {
      "cell_type": "code",
      "source": [
        "plot_pacf(df1['Rate'], lags =5)\n",
        "plt.show()"
      ],
      "metadata": {
        "colab": {
          "base_uri": "https://localhost:8080/",
          "height": 281
        },
        "id": "8rKaNnuBgHFu",
        "outputId": "a2ece9f3-a52e-4710-8fa0-a22c5d5b878a"
      },
      "execution_count": null,
      "outputs": [
        {
          "output_type": "display_data",
          "data": {
            "text/plain": [
              "<Figure size 432x288 with 1 Axes>"
            ],
            "image/png": "[encoded data removed]"
          },
          "metadata": {
            "needs_background": "light"
          }
        }
      ]
    },
    {
      "cell_type": "code",
      "source": [
        "#######################################   STATIONARY CHECK  #################################################################"
      ],
      "metadata": {
        "id": "dXAtUMlDgOpV"
      },
      "execution_count": null,
      "outputs": []
    },
    {
      "cell_type": "code",
      "source": [
        "result = adfuller(df1['Rate'])\n",
        "print('ADF Statistic: %f' % result[0])\n",
        "print('p-value: %f' % result[1])\n",
        "print('Critical Values:')\n",
        "for key, value in result[4].items():\n",
        " print('\\t%s: %.3f' % (key, value))\n",
        "if result[0]>0.05:\n",
        "  print('Series is not Stationary')\n",
        "else:\n",
        "  print(\"Series is stationary\")"
      ],
      "metadata": {
        "colab": {
          "base_uri": "https://localhost:8080/"
        },
        "id": "foGmBIwUgW7e",
        "outputId": "377716ac-7172-4d5e-b97f-9ee2f7b65f30"
      },
      "execution_count": null,
      "outputs": [
        {
          "output_type": "stream",
          "name": "stdout",
          "text": [
            "ADF Statistic: -3.405192\n",
            "p-value: 0.010783\n",
            "Critical Values:\n",
            "\t1%: -3.616\n",
            "\t5%: -2.941\n",
            "\t10%: -2.609\n",
            "Series is stationary\n"
          ]
        }
      ]
    },
    {
      "cell_type": "code",
      "source": [
        "def kpss_test(series, **kw):\n",
        "    statistic, p_value, n_lags, critical_values = kpss(series, regression='ct')\n",
        "    # Format Output\n",
        "    print(f'KPSS Statistic: {statistic}')\n",
        "    print(f'p-value: {p_value}')\n",
        "    print(f'num lags: {n_lags}')\n",
        "    print('Critial Values:')\n",
        "    for key, value in critical_values.items():\n",
        "        print(f'   {key} : {value}')\n",
        "    print(f'Result: The series is {\"not \" if p_value < 0.05 else \"\"}stationary')"
      ],
      "metadata": {
        "id": "yaYQmpKOga97"
      },
      "execution_count": null,
      "outputs": []
    },
    {
      "cell_type": "code",
      "source": [
        "kpss_test(df1['Rate'])"
      ],
      "metadata": {
        "colab": {
          "base_uri": "https://localhost:8080/"
        },
        "id": "UEC1vFD5gdj2",
        "outputId": "e478559b-01a1-4350-f7a4-eecfa79f0157"
      },
      "execution_count": null,
      "outputs": [
        {
          "output_type": "stream",
          "name": "stdout",
          "text": [
            "KPSS Statistic: 0.12249299835507005\n",
            "p-value: 0.09353148452764805\n",
            "num lags: 10\n",
            "Critial Values:\n",
            "   10% : 0.119\n",
            "   5% : 0.146\n",
            "   2.5% : 0.176\n",
            "   1% : 0.216\n",
            "Result: The series is stationary\n"
          ]
        }
      ]
    },
    {
      "cell_type": "code",
      "source": [
        "#######################################   MODEL   #################################################################"
      ],
      "metadata": {
        "id": "1XJZyfZrRtMU"
      },
      "execution_count": null,
      "outputs": []
    },
    {
      "cell_type": "code",
      "source": [
        "model_A1=ARIMA(df1['Rate'],order=(3,1,0))\n",
        "model_fit_A1=model_A1.fit()\n",
        "model_fit_A1.summary()"
      ],
      "metadata": {
        "colab": {
          "base_uri": "https://localhost:8080/",
          "height": 382
        },
        "id": "KHjvnjAehj9p",
        "outputId": "a1850641-f3b2-4ca1-e1dd-27e337416412"
      },
      "execution_count": null,
      "outputs": [
        {
          "output_type": "execute_result",
          "data": {
            "text/plain": [
              "<class 'statsmodels.iolib.summary.Summary'>\n",
              "\"\"\"\n",
              "                             ARIMA Model Results                              \n",
              "==============================================================================\n",
              "Dep. Variable:                 D.Rate   No. Observations:                   39\n",
              "Model:                 ARIMA(3, 1, 0)   Log Likelihood                 -64.985\n",
              "Method:                       css-mle   S.D. of innovations              1.267\n",
              "Date:                Thu, 04 Aug 2022   AIC                            139.970\n",
              "Time:                        23:21:04   BIC                            148.288\n",
              "Sample:                             1   HQIC                           142.954\n",
              "                                                                              \n",
              "================================================================================\n",
              "                   coef    std err          z      P>|z|      [0.025      0.975]\n",
              "--------------------------------------------------------------------------------\n",
              "const            1.1080      0.514      2.157      0.038       0.101       2.115\n",
              "ar.L1.D.Rate    -0.1290      0.152     -0.848      0.402      -0.427       0.169\n",
              "ar.L2.D.Rate     0.4906      0.136      3.620      0.001       0.225       0.756\n",
              "ar.L3.D.Rate     0.2836      0.175      1.624      0.113      -0.059       0.626\n",
              "                                    Roots                                    \n",
              "=============================================================================\n",
              "                  Real          Imaginary           Modulus         Frequency\n",
              "-----------------------------------------------------------------------------\n",
              "AR.1            1.1814           -0.0000j            1.1814           -0.0000\n",
              "AR.2           -1.4558           -0.9304j            1.7277           -0.4095\n",
              "AR.3           -1.4558           +0.9304j            1.7277            0.4095\n",
              "-----------------------------------------------------------------------------\n",
              "\"\"\""
            ],
            "text/html": [
              "<table class=\"simpletable\">\n",
              "<caption>ARIMA Model Results</caption>\n",
              "<tr>\n",
              "  <th>Dep. Variable:</th>      <td>D.Rate</td>      <th>  No. Observations:  </th>   <td>39</td>   \n",
              "</tr>\n",
              "<tr>\n",
              "  <th>Model:</th>          <td>ARIMA(3, 1, 0)</td>  <th>  Log Likelihood     </th> <td>-64.985</td>\n",
              "</tr>\n",
              "<tr>\n",
              "  <th>Method:</th>             <td>css-mle</td>     <th>  S.D. of innovations</th>  <td>1.267</td> \n",
              "</tr>\n",
              "<tr>\n",
              "  <th>Date:</th>          <td>Thu, 04 Aug 2022</td> <th>  AIC                </th> <td>139.970</td>\n",
              "</tr>\n",
              "<tr>\n",
              "  <th>Time:</th>              <td>23:21:04</td>     <th>  BIC                </th> <td>148.288</td>\n",
              "</tr>\n",
              "<tr>\n",
              "  <th>Sample:</th>                <td>1</td>        <th>  HQIC               </th> <td>142.954</td>\n",
              "</tr>\n",
              "<tr>\n",
              "  <th></th>                       <td> </td>        <th>                     </th>    <td> </td>   \n",
              "</tr>\n",
              "</table>\n",
              "<table class=\"simpletable\">\n",
              "<tr>\n",
              "        <td></td>          <th>coef</th>     <th>std err</th>      <th>z</th>      <th>P>|z|</th>  <th>[0.025</th>    <th>0.975]</th>  \n",
              "</tr>\n",
              "<tr>\n",
              "  <th>const</th>        <td>    1.1080</td> <td>    0.514</td> <td>    2.157</td> <td> 0.038</td> <td>    0.101</td> <td>    2.115</td>\n",
              "</tr>\n",
              "<tr>\n",
              "  <th>ar.L1.D.Rate</th> <td>   -0.1290</td> <td>    0.152</td> <td>   -0.848</td> <td> 0.402</td> <td>   -0.427</td> <td>    0.169</td>\n",
              "</tr>\n",
              "<tr>\n",
              "  <th>ar.L2.D.Rate</th> <td>    0.4906</td> <td>    0.136</td> <td>    3.620</td> <td> 0.001</td> <td>    0.225</td> <td>    0.756</td>\n",
              "</tr>\n",
              "<tr>\n",
              "  <th>ar.L3.D.Rate</th> <td>    0.2836</td> <td>    0.175</td> <td>    1.624</td> <td> 0.113</td> <td>   -0.059</td> <td>    0.626</td>\n",
              "</tr>\n",
              "</table>\n",
              "<table class=\"simpletable\">\n",
              "<caption>Roots</caption>\n",
              "<tr>\n",
              "    <td></td>   <th>            Real</th>  <th>         Imaginary</th> <th>         Modulus</th>  <th>        Frequency</th>\n",
              "</tr>\n",
              "<tr>\n",
              "  <th>AR.1</th> <td>           1.1814</td> <td>          -0.0000j</td> <td>           1.1814</td> <td>          -0.0000</td>\n",
              "</tr>\n",
              "<tr>\n",
              "  <th>AR.2</th> <td>          -1.4558</td> <td>          -0.9304j</td> <td>           1.7277</td> <td>          -0.4095</td>\n",
              "</tr>\n",
              "<tr>\n",
              "  <th>AR.3</th> <td>          -1.4558</td> <td>          +0.9304j</td> <td>           1.7277</td> <td>           0.4095</td>\n",
              "</tr>\n",
              "</table>"
            ]
          },
          "metadata": {},
          "execution_count": 10
        }
      ]
    },
    {
      "cell_type": "code",
      "source": [
        "model_A1=ARIMA(df1['Rate'],order=(1,0,1))\n",
        "model_fit_A1=model_A1.fit()\n",
        "model_fit_A1.summary()"
      ],
      "metadata": {
        "colab": {
          "base_uri": "https://localhost:8080/",
          "height": 213
        },
        "id": "JUAD6innivdv",
        "outputId": "a9103a2a-be50-45a4-918b-d817341b2088"
      },
      "execution_count": null,
      "outputs": [
        {
          "output_type": "execute_result",
          "data": {
            "text/plain": [
              "<class 'statsmodels.iolib.summary.Summary'>\n",
              "\"\"\"\n",
              "                              ARMA Model Results                              \n",
              "==============================================================================\n",
              "Dep. Variable:                   Rate   No. Observations:                   40\n",
              "Model:                     ARMA(0, 0)   Log Likelihood                -155.210\n",
              "Method:                           css   S.D. of innovations             11.720\n",
              "Date:                Tue, 02 Aug 2022   AIC                            314.420\n",
              "Time:                        03:25:58   BIC                            317.797\n",
              "Sample:                             0   HQIC                           315.641\n",
              "                                                                              \n",
              "==============================================================================\n",
              "                 coef    std err          z      P>|z|      [0.025      0.975]\n",
              "------------------------------------------------------------------------------\n",
              "const         51.0651      1.853     27.556      0.000      47.433      54.697\n",
              "==============================================================================\n",
              "\"\"\""
            ],
            "text/html": [
              "<table class=\"simpletable\">\n",
              "<caption>ARMA Model Results</caption>\n",
              "<tr>\n",
              "  <th>Dep. Variable:</th>       <td>Rate</td>       <th>  No. Observations:  </th>    <td>40</td>   \n",
              "</tr>\n",
              "<tr>\n",
              "  <th>Model:</th>            <td>ARMA(0, 0)</td>    <th>  Log Likelihood     </th> <td>-155.210</td>\n",
              "</tr>\n",
              "<tr>\n",
              "  <th>Method:</th>               <td>css</td>       <th>  S.D. of innovations</th>  <td>11.720</td> \n",
              "</tr>\n",
              "<tr>\n",
              "  <th>Date:</th>          <td>Tue, 02 Aug 2022</td> <th>  AIC                </th>  <td>314.420</td>\n",
              "</tr>\n",
              "<tr>\n",
              "  <th>Time:</th>              <td>03:25:58</td>     <th>  BIC                </th>  <td>317.797</td>\n",
              "</tr>\n",
              "<tr>\n",
              "  <th>Sample:</th>                <td>0</td>        <th>  HQIC               </th>  <td>315.641</td>\n",
              "</tr>\n",
              "<tr>\n",
              "  <th></th>                       <td> </td>        <th>                     </th>     <td> </td>   \n",
              "</tr>\n",
              "</table>\n",
              "<table class=\"simpletable\">\n",
              "<tr>\n",
              "    <td></td>       <th>coef</th>     <th>std err</th>      <th>z</th>      <th>P>|z|</th>  <th>[0.025</th>    <th>0.975]</th>  \n",
              "</tr>\n",
              "<tr>\n",
              "  <th>const</th> <td>   51.0651</td> <td>    1.853</td> <td>   27.556</td> <td> 0.000</td> <td>   47.433</td> <td>   54.697</td>\n",
              "</tr>\n",
              "</table>"
            ]
          },
          "metadata": {},
          "execution_count": 43
        }
      ]
    },
    {
      "cell_type": "code",
      "source": [
        "model_A1=ARIMA(df1['Rate'],order=(3,0,1))\n",
        "model_fit_A1=model_A1.fit()\n",
        "model_fit_A1.summary()"
      ],
      "metadata": {
        "colab": {
          "base_uri": "https://localhost:8080/",
          "height": 425
        },
        "id": "uiML96cFRm1L",
        "outputId": "4f9e47ee-4edc-42a6-eedc-7fab6a83cbb2"
      },
      "execution_count": null,
      "outputs": [
        {
          "output_type": "execute_result",
          "data": {
            "text/plain": [
              "<class 'statsmodels.iolib.summary.Summary'>\n",
              "\"\"\"\n",
              "                              ARMA Model Results                              \n",
              "==============================================================================\n",
              "Dep. Variable:                   Rate   No. Observations:                   40\n",
              "Model:                     ARMA(3, 1)   Log Likelihood                 -70.668\n",
              "Method:                       css-mle   S.D. of innovations              1.292\n",
              "Date:                Sun, 31 Jul 2022   AIC                            153.336\n",
              "Time:                        21:15:37   BIC                            163.469\n",
              "Sample:                             0   HQIC                           157.000\n",
              "                                                                              \n",
              "==============================================================================\n",
              "                 coef    std err          z      P>|z|      [0.025      0.975]\n",
              "------------------------------------------------------------------------------\n",
              "const         38.1929     16.341      2.337      0.025       6.166      70.220\n",
              "ar.L1.Rate     1.3935      0.169      8.244      0.000       1.062       1.725\n",
              "ar.L2.Rate     0.1391      0.308      0.452      0.654      -0.465       0.743\n",
              "ar.L3.Rate    -0.5394      0.147     -3.667      0.001      -0.828      -0.251\n",
              "ma.L1.Rate    -0.4784      0.191     -2.505      0.017      -0.853      -0.104\n",
              "                                    Roots                                    \n",
              "=============================================================================\n",
              "                  Real          Imaginary           Modulus         Frequency\n",
              "-----------------------------------------------------------------------------\n",
              "AR.1            1.0187           -0.0649j            1.0207           -0.0101\n",
              "AR.2            1.0187           +0.0649j            1.0207            0.0101\n",
              "AR.3           -1.7795           -0.0000j            1.7795           -0.5000\n",
              "MA.1            2.0904           +0.0000j            2.0904            0.0000\n",
              "-----------------------------------------------------------------------------\n",
              "\"\"\""
            ],
            "text/html": [
              "<table class=\"simpletable\">\n",
              "<caption>ARMA Model Results</caption>\n",
              "<tr>\n",
              "  <th>Dep. Variable:</th>       <td>Rate</td>       <th>  No. Observations:  </th>   <td>40</td>   \n",
              "</tr>\n",
              "<tr>\n",
              "  <th>Model:</th>            <td>ARMA(3, 1)</td>    <th>  Log Likelihood     </th> <td>-70.668</td>\n",
              "</tr>\n",
              "<tr>\n",
              "  <th>Method:</th>             <td>css-mle</td>     <th>  S.D. of innovations</th>  <td>1.292</td> \n",
              "</tr>\n",
              "<tr>\n",
              "  <th>Date:</th>          <td>Sun, 31 Jul 2022</td> <th>  AIC                </th> <td>153.336</td>\n",
              "</tr>\n",
              "<tr>\n",
              "  <th>Time:</th>              <td>21:15:37</td>     <th>  BIC                </th> <td>163.469</td>\n",
              "</tr>\n",
              "<tr>\n",
              "  <th>Sample:</th>                <td>0</td>        <th>  HQIC               </th> <td>157.000</td>\n",
              "</tr>\n",
              "<tr>\n",
              "  <th></th>                       <td> </td>        <th>                     </th>    <td> </td>   \n",
              "</tr>\n",
              "</table>\n",
              "<table class=\"simpletable\">\n",
              "<tr>\n",
              "       <td></td>         <th>coef</th>     <th>std err</th>      <th>z</th>      <th>P>|z|</th>  <th>[0.025</th>    <th>0.975]</th>  \n",
              "</tr>\n",
              "<tr>\n",
              "  <th>const</th>      <td>   38.1929</td> <td>   16.341</td> <td>    2.337</td> <td> 0.025</td> <td>    6.166</td> <td>   70.220</td>\n",
              "</tr>\n",
              "<tr>\n",
              "  <th>ar.L1.Rate</th> <td>    1.3935</td> <td>    0.169</td> <td>    8.244</td> <td> 0.000</td> <td>    1.062</td> <td>    1.725</td>\n",
              "</tr>\n",
              "<tr>\n",
              "  <th>ar.L2.Rate</th> <td>    0.1391</td> <td>    0.308</td> <td>    0.452</td> <td> 0.654</td> <td>   -0.465</td> <td>    0.743</td>\n",
              "</tr>\n",
              "<tr>\n",
              "  <th>ar.L3.Rate</th> <td>   -0.5394</td> <td>    0.147</td> <td>   -3.667</td> <td> 0.001</td> <td>   -0.828</td> <td>   -0.251</td>\n",
              "</tr>\n",
              "<tr>\n",
              "  <th>ma.L1.Rate</th> <td>   -0.4784</td> <td>    0.191</td> <td>   -2.505</td> <td> 0.017</td> <td>   -0.853</td> <td>   -0.104</td>\n",
              "</tr>\n",
              "</table>\n",
              "<table class=\"simpletable\">\n",
              "<caption>Roots</caption>\n",
              "<tr>\n",
              "    <td></td>   <th>            Real</th>  <th>         Imaginary</th> <th>         Modulus</th>  <th>        Frequency</th>\n",
              "</tr>\n",
              "<tr>\n",
              "  <th>AR.1</th> <td>           1.0187</td> <td>          -0.0649j</td> <td>           1.0207</td> <td>          -0.0101</td>\n",
              "</tr>\n",
              "<tr>\n",
              "  <th>AR.2</th> <td>           1.0187</td> <td>          +0.0649j</td> <td>           1.0207</td> <td>           0.0101</td>\n",
              "</tr>\n",
              "<tr>\n",
              "  <th>AR.3</th> <td>          -1.7795</td> <td>          -0.0000j</td> <td>           1.7795</td> <td>          -0.5000</td>\n",
              "</tr>\n",
              "<tr>\n",
              "  <th>MA.1</th> <td>           2.0904</td> <td>          +0.0000j</td> <td>           2.0904</td> <td>           0.0000</td>\n",
              "</tr>\n",
              "</table>"
            ]
          },
          "metadata": {},
          "execution_count": 320
        }
      ]
    },
    {
      "cell_type": "code",
      "source": [
        "model_A1=ARIMA(df1['Rate'],order=(1,0,0))\n",
        "model_fit_A1=model_A1.fit()\n",
        "model_fit_A1.summary()"
      ],
      "metadata": {
        "colab": {
          "base_uri": "https://localhost:8080/",
          "height": 297
        },
        "id": "ydbsCdP-fSQL",
        "outputId": "4873cf30-7075-4509-c5e0-ad80a7be9932"
      },
      "execution_count": null,
      "outputs": [
        {
          "output_type": "execute_result",
          "data": {
            "text/plain": [
              "<class 'statsmodels.iolib.summary.Summary'>\n",
              "\"\"\"\n",
              "                              ARMA Model Results                              \n",
              "==============================================================================\n",
              "Dep. Variable:                   Rate   No. Observations:                   40\n",
              "Model:                     ARMA(1, 0)   Log Likelihood                 -83.238\n",
              "Method:                       css-mle   S.D. of innovations              1.827\n",
              "Date:                Sun, 31 Jul 2022   AIC                            172.475\n",
              "Time:                        21:13:07   BIC                            177.542\n",
              "Sample:                             0   HQIC                           174.307\n",
              "                                                                              \n",
              "==============================================================================\n",
              "                 coef    std err          z      P>|z|      [0.025      0.975]\n",
              "------------------------------------------------------------------------------\n",
              "const         45.0282     18.993      2.371      0.023       7.803      82.254\n",
              "ar.L1.Rate     0.9957      0.006    167.749      0.000       0.984       1.007\n",
              "                                    Roots                                    \n",
              "=============================================================================\n",
              "                  Real          Imaginary           Modulus         Frequency\n",
              "-----------------------------------------------------------------------------\n",
              "AR.1            1.0043           +0.0000j            1.0043            0.0000\n",
              "-----------------------------------------------------------------------------\n",
              "\"\"\""
            ],
            "text/html": [
              "<table class=\"simpletable\">\n",
              "<caption>ARMA Model Results</caption>\n",
              "<tr>\n",
              "  <th>Dep. Variable:</th>       <td>Rate</td>       <th>  No. Observations:  </th>   <td>40</td>   \n",
              "</tr>\n",
              "<tr>\n",
              "  <th>Model:</th>            <td>ARMA(1, 0)</td>    <th>  Log Likelihood     </th> <td>-83.238</td>\n",
              "</tr>\n",
              "<tr>\n",
              "  <th>Method:</th>             <td>css-mle</td>     <th>  S.D. of innovations</th>  <td>1.827</td> \n",
              "</tr>\n",
              "<tr>\n",
              "  <th>Date:</th>          <td>Sun, 31 Jul 2022</td> <th>  AIC                </th> <td>172.475</td>\n",
              "</tr>\n",
              "<tr>\n",
              "  <th>Time:</th>              <td>21:13:07</td>     <th>  BIC                </th> <td>177.542</td>\n",
              "</tr>\n",
              "<tr>\n",
              "  <th>Sample:</th>                <td>0</td>        <th>  HQIC               </th> <td>174.307</td>\n",
              "</tr>\n",
              "<tr>\n",
              "  <th></th>                       <td> </td>        <th>                     </th>    <td> </td>   \n",
              "</tr>\n",
              "</table>\n",
              "<table class=\"simpletable\">\n",
              "<tr>\n",
              "       <td></td>         <th>coef</th>     <th>std err</th>      <th>z</th>      <th>P>|z|</th>  <th>[0.025</th>    <th>0.975]</th>  \n",
              "</tr>\n",
              "<tr>\n",
              "  <th>const</th>      <td>   45.0282</td> <td>   18.993</td> <td>    2.371</td> <td> 0.023</td> <td>    7.803</td> <td>   82.254</td>\n",
              "</tr>\n",
              "<tr>\n",
              "  <th>ar.L1.Rate</th> <td>    0.9957</td> <td>    0.006</td> <td>  167.749</td> <td> 0.000</td> <td>    0.984</td> <td>    1.007</td>\n",
              "</tr>\n",
              "</table>\n",
              "<table class=\"simpletable\">\n",
              "<caption>Roots</caption>\n",
              "<tr>\n",
              "    <td></td>   <th>            Real</th>  <th>         Imaginary</th> <th>         Modulus</th>  <th>        Frequency</th>\n",
              "</tr>\n",
              "<tr>\n",
              "  <th>AR.1</th> <td>           1.0043</td> <td>          +0.0000j</td> <td>           1.0043</td> <td>           0.0000</td>\n",
              "</tr>\n",
              "</table>"
            ]
          },
          "metadata": {},
          "execution_count": 312
        }
      ]
    },
    {
      "cell_type": "code",
      "source": [
        "model_A1=ARIMA(df1['Rate'],order=(3,2,1))\n",
        "model_fit_A1=model_A1.fit()\n",
        "model_fit_A1.summary()"
      ],
      "metadata": {
        "colab": {
          "base_uri": "https://localhost:8080/",
          "height": 425
        },
        "id": "Ik8gNmudfX8g",
        "outputId": "3f05b233-a86e-43b4-fd1b-8487be15a26b"
      },
      "execution_count": null,
      "outputs": [
        {
          "output_type": "execute_result",
          "data": {
            "text/plain": [
              "<class 'statsmodels.iolib.summary.Summary'>\n",
              "\"\"\"\n",
              "                             ARIMA Model Results                              \n",
              "==============================================================================\n",
              "Dep. Variable:                D2.Rate   No. Observations:                   40\n",
              "Model:                 ARIMA(3, 2, 1)   Log Likelihood                 -65.332\n",
              "Method:                       css-mle   S.D. of innovations              1.192\n",
              "Date:                Sun, 31 Jul 2022   AIC                            142.665\n",
              "Time:                        18:29:33   BIC                            152.798\n",
              "Sample:                             2   HQIC                           146.329\n",
              "                                                                              \n",
              "=================================================================================\n",
              "                    coef    std err          z      P>|z|      [0.025      0.975]\n",
              "---------------------------------------------------------------------------------\n",
              "const            -0.0587      0.026     -2.291      0.028      -0.109      -0.008\n",
              "ar.L1.D2.Rate    -0.1919      0.154     -1.245      0.221      -0.494       0.110\n",
              "ar.L2.D2.Rate     0.4244      0.150      2.825      0.008       0.130       0.719\n",
              "ar.L3.D2.Rate     0.2502      0.153      1.634      0.111      -0.050       0.550\n",
              "ma.L1.D2.Rate    -1.0000      0.071    -14.002      0.000      -1.140      -0.860\n",
              "                                    Roots                                    \n",
              "=============================================================================\n",
              "                  Real          Imaginary           Modulus         Frequency\n",
              "-----------------------------------------------------------------------------\n",
              "AR.1            1.2919           -0.0000j            1.2919           -0.0000\n",
              "AR.2           -1.4942           -0.9280j            1.7590           -0.4115\n",
              "AR.3           -1.4942           +0.9280j            1.7590            0.4115\n",
              "MA.1            1.0000           +0.0000j            1.0000            0.0000\n",
              "-----------------------------------------------------------------------------\n",
              "\"\"\""
            ],
            "text/html": [
              "<table class=\"simpletable\">\n",
              "<caption>ARIMA Model Results</caption>\n",
              "<tr>\n",
              "  <th>Dep. Variable:</th>      <td>D2.Rate</td>     <th>  No. Observations:  </th>   <td>40</td>   \n",
              "</tr>\n",
              "<tr>\n",
              "  <th>Model:</th>          <td>ARIMA(3, 2, 1)</td>  <th>  Log Likelihood     </th> <td>-65.332</td>\n",
              "</tr>\n",
              "<tr>\n",
              "  <th>Method:</th>             <td>css-mle</td>     <th>  S.D. of innovations</th>  <td>1.192</td> \n",
              "</tr>\n",
              "<tr>\n",
              "  <th>Date:</th>          <td>Sun, 31 Jul 2022</td> <th>  AIC                </th> <td>142.665</td>\n",
              "</tr>\n",
              "<tr>\n",
              "  <th>Time:</th>              <td>18:29:33</td>     <th>  BIC                </th> <td>152.798</td>\n",
              "</tr>\n",
              "<tr>\n",
              "  <th>Sample:</th>                <td>2</td>        <th>  HQIC               </th> <td>146.329</td>\n",
              "</tr>\n",
              "<tr>\n",
              "  <th></th>                       <td> </td>        <th>                     </th>    <td> </td>   \n",
              "</tr>\n",
              "</table>\n",
              "<table class=\"simpletable\">\n",
              "<tr>\n",
              "        <td></td>           <th>coef</th>     <th>std err</th>      <th>z</th>      <th>P>|z|</th>  <th>[0.025</th>    <th>0.975]</th>  \n",
              "</tr>\n",
              "<tr>\n",
              "  <th>const</th>         <td>   -0.0587</td> <td>    0.026</td> <td>   -2.291</td> <td> 0.028</td> <td>   -0.109</td> <td>   -0.008</td>\n",
              "</tr>\n",
              "<tr>\n",
              "  <th>ar.L1.D2.Rate</th> <td>   -0.1919</td> <td>    0.154</td> <td>   -1.245</td> <td> 0.221</td> <td>   -0.494</td> <td>    0.110</td>\n",
              "</tr>\n",
              "<tr>\n",
              "  <th>ar.L2.D2.Rate</th> <td>    0.4244</td> <td>    0.150</td> <td>    2.825</td> <td> 0.008</td> <td>    0.130</td> <td>    0.719</td>\n",
              "</tr>\n",
              "<tr>\n",
              "  <th>ar.L3.D2.Rate</th> <td>    0.2502</td> <td>    0.153</td> <td>    1.634</td> <td> 0.111</td> <td>   -0.050</td> <td>    0.550</td>\n",
              "</tr>\n",
              "<tr>\n",
              "  <th>ma.L1.D2.Rate</th> <td>   -1.0000</td> <td>    0.071</td> <td>  -14.002</td> <td> 0.000</td> <td>   -1.140</td> <td>   -0.860</td>\n",
              "</tr>\n",
              "</table>\n",
              "<table class=\"simpletable\">\n",
              "<caption>Roots</caption>\n",
              "<tr>\n",
              "    <td></td>   <th>            Real</th>  <th>         Imaginary</th> <th>         Modulus</th>  <th>        Frequency</th>\n",
              "</tr>\n",
              "<tr>\n",
              "  <th>AR.1</th> <td>           1.2919</td> <td>          -0.0000j</td> <td>           1.2919</td> <td>          -0.0000</td>\n",
              "</tr>\n",
              "<tr>\n",
              "  <th>AR.2</th> <td>          -1.4942</td> <td>          -0.9280j</td> <td>           1.7590</td> <td>          -0.4115</td>\n",
              "</tr>\n",
              "<tr>\n",
              "  <th>AR.3</th> <td>          -1.4942</td> <td>          +0.9280j</td> <td>           1.7590</td> <td>           0.4115</td>\n",
              "</tr>\n",
              "<tr>\n",
              "  <th>MA.1</th> <td>           1.0000</td> <td>          +0.0000j</td> <td>           1.0000</td> <td>           0.0000</td>\n",
              "</tr>\n",
              "</table>"
            ]
          },
          "metadata": {},
          "execution_count": 47
        }
      ]
    },
    {
      "cell_type": "code",
      "source": [
        "model_A1=ARIMA(df1['Rate'],order=(2,1,1))\n",
        "model_fit_A1=model_A1.fit()\n",
        "model_fit_A1.summary()"
      ],
      "metadata": {
        "colab": {
          "base_uri": "https://localhost:8080/",
          "height": 382
        },
        "id": "ciVneLJofjgG",
        "outputId": "079bde57-b1c4-4e7d-db1f-51945c0c2bb5"
      },
      "execution_count": null,
      "outputs": [
        {
          "output_type": "execute_result",
          "data": {
            "text/plain": [
              "<class 'statsmodels.iolib.summary.Summary'>\n",
              "\"\"\"\n",
              "                             ARIMA Model Results                              \n",
              "==============================================================================\n",
              "Dep. Variable:                 D.Rate   No. Observations:                   41\n",
              "Model:                 ARIMA(2, 1, 1)   Log Likelihood                 -67.913\n",
              "Method:                       css-mle   S.D. of innovations              1.257\n",
              "Date:                Sun, 31 Jul 2022   AIC                            145.825\n",
              "Time:                        18:22:07   BIC                            154.393\n",
              "Sample:                             1   HQIC                           148.945\n",
              "                                                                              \n",
              "================================================================================\n",
              "                   coef    std err          z      P>|z|      [0.025      0.975]\n",
              "--------------------------------------------------------------------------------\n",
              "const            1.0827      0.514      2.105      0.042       0.075       2.091\n",
              "ar.L1.D.Rate     0.2731      0.207      1.318      0.196      -0.133       0.679\n",
              "ar.L2.D.Rate     0.5058      0.138      3.659      0.001       0.235       0.777\n",
              "ma.L1.D.Rate    -0.3556      0.217     -1.642      0.109      -0.780       0.069\n",
              "                                    Roots                                    \n",
              "=============================================================================\n",
              "                  Real          Imaginary           Modulus         Frequency\n",
              "-----------------------------------------------------------------------------\n",
              "AR.1            1.1617           +0.0000j            1.1617            0.0000\n",
              "AR.2           -1.7017           +0.0000j            1.7017            0.5000\n",
              "MA.1            2.8123           +0.0000j            2.8123            0.0000\n",
              "-----------------------------------------------------------------------------\n",
              "\"\"\""
            ],
            "text/html": [
              "<table class=\"simpletable\">\n",
              "<caption>ARIMA Model Results</caption>\n",
              "<tr>\n",
              "  <th>Dep. Variable:</th>      <td>D.Rate</td>      <th>  No. Observations:  </th>   <td>41</td>   \n",
              "</tr>\n",
              "<tr>\n",
              "  <th>Model:</th>          <td>ARIMA(2, 1, 1)</td>  <th>  Log Likelihood     </th> <td>-67.913</td>\n",
              "</tr>\n",
              "<tr>\n",
              "  <th>Method:</th>             <td>css-mle</td>     <th>  S.D. of innovations</th>  <td>1.257</td> \n",
              "</tr>\n",
              "<tr>\n",
              "  <th>Date:</th>          <td>Sun, 31 Jul 2022</td> <th>  AIC                </th> <td>145.825</td>\n",
              "</tr>\n",
              "<tr>\n",
              "  <th>Time:</th>              <td>18:22:07</td>     <th>  BIC                </th> <td>154.393</td>\n",
              "</tr>\n",
              "<tr>\n",
              "  <th>Sample:</th>                <td>1</td>        <th>  HQIC               </th> <td>148.945</td>\n",
              "</tr>\n",
              "<tr>\n",
              "  <th></th>                       <td> </td>        <th>                     </th>    <td> </td>   \n",
              "</tr>\n",
              "</table>\n",
              "<table class=\"simpletable\">\n",
              "<tr>\n",
              "        <td></td>          <th>coef</th>     <th>std err</th>      <th>z</th>      <th>P>|z|</th>  <th>[0.025</th>    <th>0.975]</th>  \n",
              "</tr>\n",
              "<tr>\n",
              "  <th>const</th>        <td>    1.0827</td> <td>    0.514</td> <td>    2.105</td> <td> 0.042</td> <td>    0.075</td> <td>    2.091</td>\n",
              "</tr>\n",
              "<tr>\n",
              "  <th>ar.L1.D.Rate</th> <td>    0.2731</td> <td>    0.207</td> <td>    1.318</td> <td> 0.196</td> <td>   -0.133</td> <td>    0.679</td>\n",
              "</tr>\n",
              "<tr>\n",
              "  <th>ar.L2.D.Rate</th> <td>    0.5058</td> <td>    0.138</td> <td>    3.659</td> <td> 0.001</td> <td>    0.235</td> <td>    0.777</td>\n",
              "</tr>\n",
              "<tr>\n",
              "  <th>ma.L1.D.Rate</th> <td>   -0.3556</td> <td>    0.217</td> <td>   -1.642</td> <td> 0.109</td> <td>   -0.780</td> <td>    0.069</td>\n",
              "</tr>\n",
              "</table>\n",
              "<table class=\"simpletable\">\n",
              "<caption>Roots</caption>\n",
              "<tr>\n",
              "    <td></td>   <th>            Real</th>  <th>         Imaginary</th> <th>         Modulus</th>  <th>        Frequency</th>\n",
              "</tr>\n",
              "<tr>\n",
              "  <th>AR.1</th> <td>           1.1617</td> <td>          +0.0000j</td> <td>           1.1617</td> <td>           0.0000</td>\n",
              "</tr>\n",
              "<tr>\n",
              "  <th>AR.2</th> <td>          -1.7017</td> <td>          +0.0000j</td> <td>           1.7017</td> <td>           0.5000</td>\n",
              "</tr>\n",
              "<tr>\n",
              "  <th>MA.1</th> <td>           2.8123</td> <td>          +0.0000j</td> <td>           2.8123</td> <td>           0.0000</td>\n",
              "</tr>\n",
              "</table>"
            ]
          },
          "metadata": {},
          "execution_count": 29
        }
      ]
    },
    {
      "cell_type": "code",
      "source": [
        "model_A1=ARIMA(df1['Rate'],order=(2,2,1))\n",
        "model_fit_A1=model_A1.fit()\n",
        "model_fit_A1.summary()"
      ],
      "metadata": {
        "colab": {
          "base_uri": "https://localhost:8080/",
          "height": 382
        },
        "id": "6GtHZrnofo-w",
        "outputId": "18f745c2-42b5-439b-9235-a0beb7a80846"
      },
      "execution_count": null,
      "outputs": [
        {
          "output_type": "execute_result",
          "data": {
            "text/plain": [
              "<class 'statsmodels.iolib.summary.Summary'>\n",
              "\"\"\"\n",
              "                             ARIMA Model Results                              \n",
              "==============================================================================\n",
              "Dep. Variable:                D2.Rate   No. Observations:                   40\n",
              "Model:                 ARIMA(2, 2, 1)   Log Likelihood                 -66.652\n",
              "Method:                       css-mle   S.D. of innovations              1.262\n",
              "Date:                Sun, 31 Jul 2022   AIC                            143.303\n",
              "Time:                        18:22:22   BIC                            151.747\n",
              "Sample:                             2   HQIC                           146.356\n",
              "                                                                              \n",
              "=================================================================================\n",
              "                    coef    std err          z      P>|z|      [0.025      0.975]\n",
              "---------------------------------------------------------------------------------\n",
              "const            -0.0731      0.070     -1.040      0.305      -0.211       0.065\n",
              "ar.L1.D2.Rate    -0.7261      0.916     -0.792      0.433      -2.522       1.070\n",
              "ar.L2.D2.Rate    -0.1548      0.735     -0.211      0.834      -1.595       1.285\n",
              "ma.L1.D2.Rate    -0.3617      0.979     -0.369      0.714      -2.281       1.558\n",
              "                                    Roots                                    \n",
              "=============================================================================\n",
              "                  Real          Imaginary           Modulus         Frequency\n",
              "-----------------------------------------------------------------------------\n",
              "AR.1           -2.3452           -0.9795j            2.5415           -0.4370\n",
              "AR.2           -2.3452           +0.9795j            2.5415            0.4370\n",
              "MA.1            2.7648           +0.0000j            2.7648            0.0000\n",
              "-----------------------------------------------------------------------------\n",
              "\"\"\""
            ],
            "text/html": [
              "<table class=\"simpletable\">\n",
              "<caption>ARIMA Model Results</caption>\n",
              "<tr>\n",
              "  <th>Dep. Variable:</th>      <td>D2.Rate</td>     <th>  No. Observations:  </th>   <td>40</td>   \n",
              "</tr>\n",
              "<tr>\n",
              "  <th>Model:</th>          <td>ARIMA(2, 2, 1)</td>  <th>  Log Likelihood     </th> <td>-66.652</td>\n",
              "</tr>\n",
              "<tr>\n",
              "  <th>Method:</th>             <td>css-mle</td>     <th>  S.D. of innovations</th>  <td>1.262</td> \n",
              "</tr>\n",
              "<tr>\n",
              "  <th>Date:</th>          <td>Sun, 31 Jul 2022</td> <th>  AIC                </th> <td>143.303</td>\n",
              "</tr>\n",
              "<tr>\n",
              "  <th>Time:</th>              <td>18:22:22</td>     <th>  BIC                </th> <td>151.747</td>\n",
              "</tr>\n",
              "<tr>\n",
              "  <th>Sample:</th>                <td>2</td>        <th>  HQIC               </th> <td>146.356</td>\n",
              "</tr>\n",
              "<tr>\n",
              "  <th></th>                       <td> </td>        <th>                     </th>    <td> </td>   \n",
              "</tr>\n",
              "</table>\n",
              "<table class=\"simpletable\">\n",
              "<tr>\n",
              "        <td></td>           <th>coef</th>     <th>std err</th>      <th>z</th>      <th>P>|z|</th>  <th>[0.025</th>    <th>0.975]</th>  \n",
              "</tr>\n",
              "<tr>\n",
              "  <th>const</th>         <td>   -0.0731</td> <td>    0.070</td> <td>   -1.040</td> <td> 0.305</td> <td>   -0.211</td> <td>    0.065</td>\n",
              "</tr>\n",
              "<tr>\n",
              "  <th>ar.L1.D2.Rate</th> <td>   -0.7261</td> <td>    0.916</td> <td>   -0.792</td> <td> 0.433</td> <td>   -2.522</td> <td>    1.070</td>\n",
              "</tr>\n",
              "<tr>\n",
              "  <th>ar.L2.D2.Rate</th> <td>   -0.1548</td> <td>    0.735</td> <td>   -0.211</td> <td> 0.834</td> <td>   -1.595</td> <td>    1.285</td>\n",
              "</tr>\n",
              "<tr>\n",
              "  <th>ma.L1.D2.Rate</th> <td>   -0.3617</td> <td>    0.979</td> <td>   -0.369</td> <td> 0.714</td> <td>   -2.281</td> <td>    1.558</td>\n",
              "</tr>\n",
              "</table>\n",
              "<table class=\"simpletable\">\n",
              "<caption>Roots</caption>\n",
              "<tr>\n",
              "    <td></td>   <th>            Real</th>  <th>         Imaginary</th> <th>         Modulus</th>  <th>        Frequency</th>\n",
              "</tr>\n",
              "<tr>\n",
              "  <th>AR.1</th> <td>          -2.3452</td> <td>          -0.9795j</td> <td>           2.5415</td> <td>          -0.4370</td>\n",
              "</tr>\n",
              "<tr>\n",
              "  <th>AR.2</th> <td>          -2.3452</td> <td>          +0.9795j</td> <td>           2.5415</td> <td>           0.4370</td>\n",
              "</tr>\n",
              "<tr>\n",
              "  <th>MA.1</th> <td>           2.7648</td> <td>          +0.0000j</td> <td>           2.7648</td> <td>           0.0000</td>\n",
              "</tr>\n",
              "</table>"
            ]
          },
          "metadata": {},
          "execution_count": 30
        }
      ]
    },
    {
      "cell_type": "code",
      "source": [
        "model_A1=ARIMA(df1['Rate'],order=(1,0,1))\n",
        "model_fit_A1=model_A1.fit()\n",
        "model_fit_A1.summary()"
      ],
      "metadata": {
        "colab": {
          "base_uri": "https://localhost:8080/",
          "height": 339
        },
        "id": "ulknWtJXfwjy",
        "outputId": "b0c24e15-c3c5-48a0-d67b-9d7d8dbb9476"
      },
      "execution_count": null,
      "outputs": [
        {
          "output_type": "execute_result",
          "data": {
            "text/plain": [
              "<class 'statsmodels.iolib.summary.Summary'>\n",
              "\"\"\"\n",
              "                              ARMA Model Results                              \n",
              "==============================================================================\n",
              "Dep. Variable:                   Rate   No. Observations:                   42\n",
              "Model:                     ARMA(1, 1)   Log Likelihood                 -85.417\n",
              "Method:                       css-mle   S.D. of innovations              1.745\n",
              "Date:                Sun, 31 Jul 2022   AIC                            178.835\n",
              "Time:                        18:22:57   BIC                            185.785\n",
              "Sample:                             0   HQIC                           181.382\n",
              "                                                                              \n",
              "==============================================================================\n",
              "                 coef    std err          z      P>|z|      [0.025      0.975]\n",
              "------------------------------------------------------------------------------\n",
              "const         45.0557     18.822      2.394      0.022       8.166      81.946\n",
              "ar.L1.Rate     0.9949      0.007    140.752      0.000       0.981       1.009\n",
              "ma.L1.Rate     0.1431      0.110      1.300      0.201      -0.073       0.359\n",
              "                                    Roots                                    \n",
              "=============================================================================\n",
              "                  Real          Imaginary           Modulus         Frequency\n",
              "-----------------------------------------------------------------------------\n",
              "AR.1            1.0051           +0.0000j            1.0051            0.0000\n",
              "MA.1           -6.9857           +0.0000j            6.9857            0.5000\n",
              "-----------------------------------------------------------------------------\n",
              "\"\"\""
            ],
            "text/html": [
              "<table class=\"simpletable\">\n",
              "<caption>ARMA Model Results</caption>\n",
              "<tr>\n",
              "  <th>Dep. Variable:</th>       <td>Rate</td>       <th>  No. Observations:  </th>   <td>42</td>   \n",
              "</tr>\n",
              "<tr>\n",
              "  <th>Model:</th>            <td>ARMA(1, 1)</td>    <th>  Log Likelihood     </th> <td>-85.417</td>\n",
              "</tr>\n",
              "<tr>\n",
              "  <th>Method:</th>             <td>css-mle</td>     <th>  S.D. of innovations</th>  <td>1.745</td> \n",
              "</tr>\n",
              "<tr>\n",
              "  <th>Date:</th>          <td>Sun, 31 Jul 2022</td> <th>  AIC                </th> <td>178.835</td>\n",
              "</tr>\n",
              "<tr>\n",
              "  <th>Time:</th>              <td>18:22:57</td>     <th>  BIC                </th> <td>185.785</td>\n",
              "</tr>\n",
              "<tr>\n",
              "  <th>Sample:</th>                <td>0</td>        <th>  HQIC               </th> <td>181.382</td>\n",
              "</tr>\n",
              "<tr>\n",
              "  <th></th>                       <td> </td>        <th>                     </th>    <td> </td>   \n",
              "</tr>\n",
              "</table>\n",
              "<table class=\"simpletable\">\n",
              "<tr>\n",
              "       <td></td>         <th>coef</th>     <th>std err</th>      <th>z</th>      <th>P>|z|</th>  <th>[0.025</th>    <th>0.975]</th>  \n",
              "</tr>\n",
              "<tr>\n",
              "  <th>const</th>      <td>   45.0557</td> <td>   18.822</td> <td>    2.394</td> <td> 0.022</td> <td>    8.166</td> <td>   81.946</td>\n",
              "</tr>\n",
              "<tr>\n",
              "  <th>ar.L1.Rate</th> <td>    0.9949</td> <td>    0.007</td> <td>  140.752</td> <td> 0.000</td> <td>    0.981</td> <td>    1.009</td>\n",
              "</tr>\n",
              "<tr>\n",
              "  <th>ma.L1.Rate</th> <td>    0.1431</td> <td>    0.110</td> <td>    1.300</td> <td> 0.201</td> <td>   -0.073</td> <td>    0.359</td>\n",
              "</tr>\n",
              "</table>\n",
              "<table class=\"simpletable\">\n",
              "<caption>Roots</caption>\n",
              "<tr>\n",
              "    <td></td>   <th>            Real</th>  <th>         Imaginary</th> <th>         Modulus</th>  <th>        Frequency</th>\n",
              "</tr>\n",
              "<tr>\n",
              "  <th>AR.1</th> <td>           1.0051</td> <td>          +0.0000j</td> <td>           1.0051</td> <td>           0.0000</td>\n",
              "</tr>\n",
              "<tr>\n",
              "  <th>MA.1</th> <td>          -6.9857</td> <td>          +0.0000j</td> <td>           6.9857</td> <td>           0.5000</td>\n",
              "</tr>\n",
              "</table>"
            ]
          },
          "metadata": {},
          "execution_count": 31
        }
      ]
    },
    {
      "cell_type": "code",
      "source": [
        "model_A1=ARIMA(df1['Rate'],order=(1,0,2))\n",
        "model_fit_A1=model_A1.fit()\n",
        "model_fit_A1.summary()"
      ],
      "metadata": {
        "colab": {
          "base_uri": "https://localhost:8080/",
          "height": 382
        },
        "id": "up086r_2f1qX",
        "outputId": "d2a384ca-cc75-48dd-f38c-3e3638dc8071"
      },
      "execution_count": null,
      "outputs": [
        {
          "output_type": "execute_result",
          "data": {
            "text/plain": [
              "<class 'statsmodels.iolib.summary.Summary'>\n",
              "\"\"\"\n",
              "                              ARMA Model Results                              \n",
              "==============================================================================\n",
              "Dep. Variable:                   Rate   No. Observations:                   40\n",
              "Model:                     ARMA(1, 2)   Log Likelihood                 -73.005\n",
              "Method:                       css-mle   S.D. of innovations              1.297\n",
              "Date:                Tue, 02 Aug 2022   AIC                            156.011\n",
              "Time:                        12:27:27   BIC                            164.455\n",
              "Sample:                             0   HQIC                           159.064\n",
              "                                                                              \n",
              "==============================================================================\n",
              "                 coef    std err          z      P>|z|      [0.025      0.975]\n",
              "------------------------------------------------------------------------------\n",
              "const         45.5708     20.357      2.239      0.031       5.672      85.469\n",
              "ar.L1.Rate     0.9928      0.010    100.452      0.000       0.973       1.012\n",
              "ma.L1.Rate     0.0153      0.074      0.207      0.837      -0.130       0.160\n",
              "ma.L2.Rate     1.0000      0.128      7.795      0.000       0.749       1.251\n",
              "                                    Roots                                    \n",
              "=============================================================================\n",
              "                  Real          Imaginary           Modulus         Frequency\n",
              "-----------------------------------------------------------------------------\n",
              "AR.1            1.0073           +0.0000j            1.0073            0.0000\n",
              "MA.1           -0.0077           -1.0000j            1.0000           -0.2512\n",
              "MA.2           -0.0077           +1.0000j            1.0000            0.2512\n",
              "-----------------------------------------------------------------------------\n",
              "\"\"\""
            ],
            "text/html": [
              "<table class=\"simpletable\">\n",
              "<caption>ARMA Model Results</caption>\n",
              "<tr>\n",
              "  <th>Dep. Variable:</th>       <td>Rate</td>       <th>  No. Observations:  </th>   <td>40</td>   \n",
              "</tr>\n",
              "<tr>\n",
              "  <th>Model:</th>            <td>ARMA(1, 2)</td>    <th>  Log Likelihood     </th> <td>-73.005</td>\n",
              "</tr>\n",
              "<tr>\n",
              "  <th>Method:</th>             <td>css-mle</td>     <th>  S.D. of innovations</th>  <td>1.297</td> \n",
              "</tr>\n",
              "<tr>\n",
              "  <th>Date:</th>          <td>Tue, 02 Aug 2022</td> <th>  AIC                </th> <td>156.011</td>\n",
              "</tr>\n",
              "<tr>\n",
              "  <th>Time:</th>              <td>12:27:27</td>     <th>  BIC                </th> <td>164.455</td>\n",
              "</tr>\n",
              "<tr>\n",
              "  <th>Sample:</th>                <td>0</td>        <th>  HQIC               </th> <td>159.064</td>\n",
              "</tr>\n",
              "<tr>\n",
              "  <th></th>                       <td> </td>        <th>                     </th>    <td> </td>   \n",
              "</tr>\n",
              "</table>\n",
              "<table class=\"simpletable\">\n",
              "<tr>\n",
              "       <td></td>         <th>coef</th>     <th>std err</th>      <th>z</th>      <th>P>|z|</th>  <th>[0.025</th>    <th>0.975]</th>  \n",
              "</tr>\n",
              "<tr>\n",
              "  <th>const</th>      <td>   45.5708</td> <td>   20.357</td> <td>    2.239</td> <td> 0.031</td> <td>    5.672</td> <td>   85.469</td>\n",
              "</tr>\n",
              "<tr>\n",
              "  <th>ar.L1.Rate</th> <td>    0.9928</td> <td>    0.010</td> <td>  100.452</td> <td> 0.000</td> <td>    0.973</td> <td>    1.012</td>\n",
              "</tr>\n",
              "<tr>\n",
              "  <th>ma.L1.Rate</th> <td>    0.0153</td> <td>    0.074</td> <td>    0.207</td> <td> 0.837</td> <td>   -0.130</td> <td>    0.160</td>\n",
              "</tr>\n",
              "<tr>\n",
              "  <th>ma.L2.Rate</th> <td>    1.0000</td> <td>    0.128</td> <td>    7.795</td> <td> 0.000</td> <td>    0.749</td> <td>    1.251</td>\n",
              "</tr>\n",
              "</table>\n",
              "<table class=\"simpletable\">\n",
              "<caption>Roots</caption>\n",
              "<tr>\n",
              "    <td></td>   <th>            Real</th>  <th>         Imaginary</th> <th>         Modulus</th>  <th>        Frequency</th>\n",
              "</tr>\n",
              "<tr>\n",
              "  <th>AR.1</th> <td>           1.0073</td> <td>          +0.0000j</td> <td>           1.0073</td> <td>           0.0000</td>\n",
              "</tr>\n",
              "<tr>\n",
              "  <th>MA.1</th> <td>          -0.0077</td> <td>          -1.0000j</td> <td>           1.0000</td> <td>          -0.2512</td>\n",
              "</tr>\n",
              "<tr>\n",
              "  <th>MA.2</th> <td>          -0.0077</td> <td>          +1.0000j</td> <td>           1.0000</td> <td>           0.2512</td>\n",
              "</tr>\n",
              "</table>"
            ]
          },
          "metadata": {},
          "execution_count": 29
        }
      ]
    },
    {
      "cell_type": "code",
      "source": [
        "model_A1=ARIMA(df1['Rate'],order=(1,2,1))\n",
        "model_fit_A1=model_A1.fit()\n",
        "model_fit_A1.summary()"
      ],
      "metadata": {
        "colab": {
          "base_uri": "https://localhost:8080/",
          "height": 339
        },
        "id": "pJC2rGCpf6gX",
        "outputId": "a37a70ec-4603-4dab-84e3-8a84df2fdbe3"
      },
      "execution_count": null,
      "outputs": [
        {
          "output_type": "execute_result",
          "data": {
            "text/plain": [
              "<class 'statsmodels.iolib.summary.Summary'>\n",
              "\"\"\"\n",
              "                             ARIMA Model Results                              \n",
              "==============================================================================\n",
              "Dep. Variable:                D2.Rate   No. Observations:                   40\n",
              "Model:                 ARIMA(1, 2, 1)   Log Likelihood                 -66.684\n",
              "Method:                       css-mle   S.D. of innovations              1.262\n",
              "Date:                Sun, 31 Jul 2022   AIC                            141.367\n",
              "Time:                        18:45:14   BIC                            148.123\n",
              "Sample:                             2   HQIC                           143.810\n",
              "                                                                              \n",
              "=================================================================================\n",
              "                    coef    std err          z      P>|z|      [0.025      0.975]\n",
              "---------------------------------------------------------------------------------\n",
              "const            -0.0747      0.061     -1.216      0.232      -0.195       0.046\n",
              "ar.L1.D2.Rate    -0.5439      0.156     -3.494      0.001      -0.849      -0.239\n",
              "ma.L1.D2.Rate    -0.5440      0.172     -3.159      0.003      -0.882      -0.207\n",
              "                                    Roots                                    \n",
              "=============================================================================\n",
              "                  Real          Imaginary           Modulus         Frequency\n",
              "-----------------------------------------------------------------------------\n",
              "AR.1           -1.8385           +0.0000j            1.8385            0.5000\n",
              "MA.1            1.8381           +0.0000j            1.8381            0.0000\n",
              "-----------------------------------------------------------------------------\n",
              "\"\"\""
            ],
            "text/html": [
              "<table class=\"simpletable\">\n",
              "<caption>ARIMA Model Results</caption>\n",
              "<tr>\n",
              "  <th>Dep. Variable:</th>      <td>D2.Rate</td>     <th>  No. Observations:  </th>   <td>40</td>   \n",
              "</tr>\n",
              "<tr>\n",
              "  <th>Model:</th>          <td>ARIMA(1, 2, 1)</td>  <th>  Log Likelihood     </th> <td>-66.684</td>\n",
              "</tr>\n",
              "<tr>\n",
              "  <th>Method:</th>             <td>css-mle</td>     <th>  S.D. of innovations</th>  <td>1.262</td> \n",
              "</tr>\n",
              "<tr>\n",
              "  <th>Date:</th>          <td>Sun, 31 Jul 2022</td> <th>  AIC                </th> <td>141.367</td>\n",
              "</tr>\n",
              "<tr>\n",
              "  <th>Time:</th>              <td>18:45:14</td>     <th>  BIC                </th> <td>148.123</td>\n",
              "</tr>\n",
              "<tr>\n",
              "  <th>Sample:</th>                <td>2</td>        <th>  HQIC               </th> <td>143.810</td>\n",
              "</tr>\n",
              "<tr>\n",
              "  <th></th>                       <td> </td>        <th>                     </th>    <td> </td>   \n",
              "</tr>\n",
              "</table>\n",
              "<table class=\"simpletable\">\n",
              "<tr>\n",
              "        <td></td>           <th>coef</th>     <th>std err</th>      <th>z</th>      <th>P>|z|</th>  <th>[0.025</th>    <th>0.975]</th>  \n",
              "</tr>\n",
              "<tr>\n",
              "  <th>const</th>         <td>   -0.0747</td> <td>    0.061</td> <td>   -1.216</td> <td> 0.232</td> <td>   -0.195</td> <td>    0.046</td>\n",
              "</tr>\n",
              "<tr>\n",
              "  <th>ar.L1.D2.Rate</th> <td>   -0.5439</td> <td>    0.156</td> <td>   -3.494</td> <td> 0.001</td> <td>   -0.849</td> <td>   -0.239</td>\n",
              "</tr>\n",
              "<tr>\n",
              "  <th>ma.L1.D2.Rate</th> <td>   -0.5440</td> <td>    0.172</td> <td>   -3.159</td> <td> 0.003</td> <td>   -0.882</td> <td>   -0.207</td>\n",
              "</tr>\n",
              "</table>\n",
              "<table class=\"simpletable\">\n",
              "<caption>Roots</caption>\n",
              "<tr>\n",
              "    <td></td>   <th>            Real</th>  <th>         Imaginary</th> <th>         Modulus</th>  <th>        Frequency</th>\n",
              "</tr>\n",
              "<tr>\n",
              "  <th>AR.1</th> <td>          -1.8385</td> <td>          +0.0000j</td> <td>           1.8385</td> <td>           0.5000</td>\n",
              "</tr>\n",
              "<tr>\n",
              "  <th>MA.1</th> <td>           1.8381</td> <td>          +0.0000j</td> <td>           1.8381</td> <td>           0.0000</td>\n",
              "</tr>\n",
              "</table>"
            ]
          },
          "metadata": {},
          "execution_count": 95
        }
      ]
    },
    {
      "cell_type": "code",
      "source": [
        "plt.figure(figsize=(12, 8), dpi=150)\n",
        "plt.figure(facecolor='beige')\n",
        "plt.xlabel(\"Total number of observations (Years)\", fontweight='bold')\n",
        "ax = plt.axes()\n",
        "ax.set_facecolor(\"white\")\n",
        "plt.ylabel(\"Fixed Residual Range\", fontweight='bold')\n",
        "\n",
        "# Giving title to the plot\n",
        "plt.title(\"Residual of ARIMA Model(3,1,0)\")\n",
        "\n",
        "residuals = pd.DataFrame(model_fit_A1.resid)\n",
        "plt.plot(residuals)\n",
        "#residuals.plot()\n",
        "#residuals.plot(kind='kde', title='Density', ax=ax[1])\n",
        "plt.show()"
      ],
      "metadata": {
        "colab": {
          "base_uri": "https://localhost:8080/",
          "height": 313
        },
        "id": "uFKGl8qtgvy-",
        "outputId": "b42932ea-4024-4823-8f56-aca6bb6757d3"
      },
      "execution_count": null,
      "outputs": [
        {
          "output_type": "display_data",
          "data": {
            "text/plain": [
              "<Figure size 1800x1200 with 0 Axes>"
            ]
          },
          "metadata": {}
        },
        {
          "output_type": "display_data",
          "data": {
            "text/plain": [
              "<Figure size 432x288 with 1 Axes>"
            ],
            "image/png": "[encoded data removed]"
          },
          "metadata": {}
        }
      ]
    },
    {
      "cell_type": "code",
      "source": [
        "residuals = pd.DataFrame(model_fit_A1.resid)\n",
        "residuals.plot(kind='kde', title ='Residual of ARIMA Model(3,1,0)', xlabel = 'Density', ylabel ='Total number of observations')\n",
        "\n",
        "plt.show()"
      ],
      "metadata": {
        "colab": {
          "base_uri": "https://localhost:8080/",
          "height": 281
        },
        "id": "bAzgt77IFyuz",
        "outputId": "8fd52e5c-b2b1-400f-c790-bcf7d4521e9c"
      },
      "execution_count": null,
      "outputs": [
        {
          "output_type": "display_data",
          "data": {
            "text/plain": [
              "<Figure size 432x288 with 1 Axes>"
            ],
            "image/png": "[encoded data removed]"
          },
          "metadata": {
            "needs_background": "light"
          }
        }
      ]
    },
    {
      "cell_type": "code",
      "source": [
        "residuals"
      ],
      "metadata": {
        "id": "X6v8eH-_Igoh"
      },
      "execution_count": null,
      "outputs": []
    },
    {
      "cell_type": "code",
      "source": [
        "from scipy.stats import norm\n",
        "\n",
        "plt.figure(figsize=(12, 8), dpi=150)\n",
        "plt.figure(facecolor='beige')\n",
        "\n",
        "plt.ylabel(\"Total number of observations (Years)\", fontweight='bold')\n",
        "ax = plt.axes()\n",
        "\n",
        "\n",
        "ax.set_facecolor(\"white\")\n",
        "\n",
        "\n",
        "plt.xlabel(\"Fixed Residual Range\", fontweight='bold')\n",
        "\n",
        "\n",
        "\n",
        "residuals = pd.DataFrame(model_fit_A1.resid)\n",
        "mu, std = norm.fit(residuals)\n",
        "\n",
        "# Plot the histogram.\n",
        "plt.hist(residuals, bins= 3, density=True, alpha=0.6)\n",
        "#residuals.plot(kind='hist', title=\"Residuals\")\n",
        "\n",
        "\n",
        "# Plot the PDF.\n",
        "xmin, xmax = plt.xlim()\n",
        "x = np.linspace(xmin, xmax, 100)\n",
        "p = norm.pdf(x, mu, std)\n",
        "\n",
        "plt.plot(x, p, 'k', linewidth=2)\n",
        "#title = \"Fit Values: {:.2f} and {:.2f}\".format(mu, std)\n",
        "plt.title(\"Residual span on fitted values\")\n",
        "\n",
        "plt.show()"
      ],
      "metadata": {
        "colab": {
          "base_uri": "https://localhost:8080/",
          "height": 313
        },
        "id": "nccN678X-NXH",
        "outputId": "1ab37554-29a4-4a96-fe6c-5260a0620fb7"
      },
      "execution_count": null,
      "outputs": [
        {
          "output_type": "display_data",
          "data": {
            "text/plain": [
              "<Figure size 1800x1200 with 0 Axes>"
            ]
          },
          "metadata": {}
        },
        {
          "output_type": "display_data",
          "data": {
            "text/plain": [
              "<Figure size 432x288 with 1 Axes>"
            ],
            "image/png": "[encoded data removed]"
          },
          "metadata": {}
        }
      ]
    },
    {
      "cell_type": "code",
      "source": [
        "model_fit_A1.plot_predict(dynamic=False)\n",
        "plt.show()"
      ],
      "metadata": {
        "colab": {
          "base_uri": "https://localhost:8080/",
          "height": 267
        },
        "id": "Hg_jlobKg6CF",
        "outputId": "0614b812-25f1-409c-955c-4d5718c3c4a6"
      },
      "execution_count": null,
      "outputs": [
        {
          "output_type": "display_data",
          "data": {
            "text/plain": [
              "<Figure size 432x288 with 1 Axes>"
            ],
            "image/png": "[encoded data removed]"
          },
          "metadata": {
            "needs_background": "light"
          }
        }
      ]
    },
    {
      "cell_type": "code",
      "source": [
        "fcast1 = model_fit_A1.forecast(37)\n",
        "print (fcast1[0])"
      ],
      "metadata": {
        "colab": {
          "base_uri": "https://localhost:8080/"
        },
        "id": "BrPQ4sKEhCwZ",
        "outputId": "2c13f4f0-d764-446c-cb48-d7457bcf1bf1"
      },
      "execution_count": null,
      "outputs": [
        {
          "output_type": "stream",
          "name": "stdout",
          "text": [
            "[ 65.08485991  65.72793657  65.98870028  66.63514705  67.25518826\n",
            "  67.95944395  68.74925091  69.56184949  70.43736208  71.34020021\n",
            "  72.27684291  73.24037175  74.22476593  75.22924523  76.24899447\n",
            "  77.28254474  78.32750188  79.38208862  80.44494308  81.51469007\n",
            "  82.59033486  83.67094489  84.75576247  85.84414573  86.9355413\n",
            "  88.0294908   89.12559984  90.22353749  91.32302297  92.42381832\n",
            "  93.52572261  94.62856541  95.73220265  96.83651231  97.94139112\n",
            "  99.0467517  100.15252004]\n"
          ]
        }
      ]
    },
    {
      "cell_type": "code",
      "source": [
        "list1 = range(2021, 2058)"
      ],
      "metadata": {
        "id": "my17U_PCiHSU"
      },
      "execution_count": null,
      "outputs": []
    },
    {
      "cell_type": "code",
      "source": [
        "dfch = pd.DataFrame((zip(list1, fcast1[0])),\n",
        "               columns =['Date', 'Rate'])\n",
        "print(dfch)"
      ],
      "metadata": {
        "colab": {
          "base_uri": "https://localhost:8080/"
        },
        "id": "M0PKpZTgiNfj",
        "outputId": "767d5098-ebc3-4a51-c353-358be048d19d"
      },
      "execution_count": null,
      "outputs": [
        {
          "output_type": "stream",
          "name": "stdout",
          "text": [
            "    Date        Rate\n",
            "0   2021   65.084860\n",
            "1   2022   65.727937\n",
            "2   2023   65.988700\n",
            "3   2024   66.635147\n",
            "4   2025   67.255188\n",
            "5   2026   67.959444\n",
            "6   2027   68.749251\n",
            "7   2028   69.561849\n",
            "8   2029   70.437362\n",
            "9   2030   71.340200\n",
            "10  2031   72.276843\n",
            "11  2032   73.240372\n",
            "12  2033   74.224766\n",
            "13  2034   75.229245\n",
            "14  2035   76.248994\n",
            "15  2036   77.282545\n",
            "16  2037   78.327502\n",
            "17  2038   79.382089\n",
            "18  2039   80.444943\n",
            "19  2040   81.514690\n",
            "20  2041   82.590335\n",
            "21  2042   83.670945\n",
            "22  2043   84.755762\n",
            "23  2044   85.844146\n",
            "24  2045   86.935541\n",
            "25  2046   88.029491\n",
            "26  2047   89.125600\n",
            "27  2048   90.223537\n",
            "28  2049   91.323023\n",
            "29  2050   92.423818\n",
            "30  2051   93.525723\n",
            "31  2052   94.628565\n",
            "32  2053   95.732203\n",
            "33  2054   96.836512\n",
            "34  2055   97.941391\n",
            "35  2056   99.046752\n",
            "36  2057  100.152520\n"
          ]
        }
      ]
    },
    {
      "cell_type": "code",
      "source": [
        "from matplotlib import pyplot as plt\n",
        "import numpy as np\n",
        "# Create the data set\n",
        "x = dfch['Date']\n",
        "y = dfch['Rate']\n",
        "#Define the confidence interval\n",
        "ci = 7* np.std(y) / np.mean(y)\n",
        "# Plot the sinus function\n",
        "plt.plot(x, y)\n",
        "# Plot the confidence interval\n",
        "plt.fill_between(x, (y-ci), (y+ci), color='green', alpha=0.35)\n",
        "plt.fill_between(x, (y-2*ci), (y+2*ci), color='blue', alpha=0.15)\n",
        "plt.show()"
      ],
      "metadata": {
        "colab": {
          "base_uri": "https://localhost:8080/",
          "height": 265
        },
        "id": "2qUa3_UCSAu4",
        "outputId": "47f8dfb8-7de5-4f71-ba52-bccf708b93cc"
      },
      "execution_count": null,
      "outputs": [
        {
          "output_type": "display_data",
          "data": {
            "text/plain": [
              "<Figure size 432x288 with 1 Axes>"
            ],
            "image/png": "[encoded data removed]"
          },
          "metadata": {
            "needs_background": "light"
          }
        }
      ]
    },
    {
      "cell_type": "code",
      "source": [
        "plt.figure(figsize=(10, 7), dpi=70, facecolor='beige')\n",
        "plt.title(\"Orange: range 95% Hi - Blue : range 80% Lo\")\n",
        "\n",
        "x = dfch['Date']\n",
        "y = dfch['Rate']\n",
        "#Define the confidence interval\n",
        "ci = 7* np.std(y) / np.mean(y)\n",
        "\n",
        "plt.xlabel('Year')\n",
        "plt.ylabel('Rate')\n",
        "# Plot the sinus function\n",
        "plt.plot(x, y-ci)\n",
        "plt.plot(x, y+2*ci)\n",
        "\n",
        "\n",
        "plt.show()"
      ],
      "metadata": {
        "colab": {
          "base_uri": "https://localhost:8080/",
          "height": 447
        },
        "id": "vI0xp4DFmpbY",
        "outputId": "346b3796-cd95-4f16-8673-e468b35d724a"
      },
      "execution_count": null,
      "outputs": [
        {
          "output_type": "display_data",
          "data": {
            "text/plain": [
              "<Figure size 700x490 with 1 Axes>"
            ],
            "image/png": "[encoded data removed]"
          },
          "metadata": {}
        }
      ]
    },
    {
      "cell_type": "code",
      "source": [
        "dfch.plot(x='Date', y ='Rate')\n",
        "plt.show()"
      ],
      "metadata": {
        "colab": {
          "base_uri": "https://localhost:8080/",
          "height": 279
        },
        "id": "zEVzUdgKiX_u",
        "outputId": "2ce37c03-7f0c-4b11-a88f-60af92966ced"
      },
      "execution_count": null,
      "outputs": [
        {
          "output_type": "display_data",
          "data": {
            "text/plain": [
              "<Figure size 432x288 with 1 Axes>"
            ],
            "image/png": "[encoded data removed]"
          },
          "metadata": {
            "needs_background": "light"
          }
        }
      ]
    },
    {
      "cell_type": "code",
      "source": [
        "vertical_concat = pd.concat([df1, dfch], axis=0)"
      ],
      "metadata": {
        "id": "hzWG6gCRHsY0"
      },
      "execution_count": null,
      "outputs": []
    },
    {
      "cell_type": "code",
      "source": [
        "vertical_concat"
      ],
      "metadata": {
        "colab": {
          "base_uri": "https://localhost:8080/",
          "height": 424
        },
        "id": "CdqeuYmJ11q6",
        "outputId": "c95d1e45-56d0-4ffb-bdf0-cd84a7138700"
      },
      "execution_count": null,
      "outputs": [
        {
          "output_type": "execute_result",
          "data": {
            "text/plain": [
              "    Date        Rate\n",
              "0   1981   23.832960\n",
              "1   1982   26.587402\n",
              "2   1983   29.341843\n",
              "3   1984   32.096285\n",
              "4   1985   34.850727\n",
              "..   ...         ...\n",
              "32  2053   95.732203\n",
              "33  2054   96.836512\n",
              "34  2055   97.941391\n",
              "35  2056   99.046752\n",
              "36  2057  100.152520\n",
              "\n",
              "[77 rows x 2 columns]"
            ],
            "text/html": [
              "\n",
              "  <div id=\"df-23113a71-2533-4fcc-8ae3-e09522095e3b\">\n",
              "    <div class=\"colab-df-container\">\n",
              "      <div>\n",
              "<style scoped>\n",
              "    .dataframe tbody tr th:only-of-type {\n",
              "        vertical-align: middle;\n",
              "    }\n",
              "\n",
              "    .dataframe tbody tr th {\n",
              "        vertical-align: top;\n",
              "    }\n",
              "\n",
              "    .dataframe thead th {\n",
              "        text-align: right;\n",
              "    }\n",
              "</style>\n",
              "<table border=\"1\" class=\"dataframe\">\n",
              "  <thead>\n",
              "    <tr style=\"text-align: right;\">\n",
              "      <th></th>\n",
              "      <th>Date</th>\n",
              "      <th>Rate</th>\n",
              "    </tr>\n",
              "  </thead>\n",
              "  <tbody>\n",
              "    <tr>\n",
              "      <th>0</th>\n",
              "      <td>1981</td>\n",
              "      <td>23.832960</td>\n",
              "    </tr>\n",
              "    <tr>\n",
              "      <th>1</th>\n",
              "      <td>1982</td>\n",
              "      <td>26.587402</td>\n",
              "    </tr>\n",
              "    <tr>\n",
              "      <th>2</th>\n",
              "      <td>1983</td>\n",
              "      <td>29.341843</td>\n",
              "    </tr>\n",
              "    <tr>\n",
              "      <th>3</th>\n",
              "      <td>1984</td>\n",
              "      <td>32.096285</td>\n",
              "    </tr>\n",
              "    <tr>\n",
              "      <th>4</th>\n",
              "      <td>1985</td>\n",
              "      <td>34.850727</td>\n",
              "    </tr>\n",
              "    <tr>\n",
              "      <th>...</th>\n",
              "      <td>...</td>\n",
              "      <td>...</td>\n",
              "    </tr>\n",
              "    <tr>\n",
              "      <th>32</th>\n",
              "      <td>2053</td>\n",
              "      <td>95.732203</td>\n",
              "    </tr>\n",
              "    <tr>\n",
              "      <th>33</th>\n",
              "      <td>2054</td>\n",
              "      <td>96.836512</td>\n",
              "    </tr>\n",
              "    <tr>\n",
              "      <th>34</th>\n",
              "      <td>2055</td>\n",
              "      <td>97.941391</td>\n",
              "    </tr>\n",
              "    <tr>\n",
              "      <th>35</th>\n",
              "      <td>2056</td>\n",
              "      <td>99.046752</td>\n",
              "    </tr>\n",
              "    <tr>\n",
              "      <th>36</th>\n",
              "      <td>2057</td>\n",
              "      <td>100.152520</td>\n",
              "    </tr>\n",
              "  </tbody>\n",
              "</table>\n",
              "<p>77 rows × 2 columns</p>\n",
              "</div>\n",
              "      <button class=\"colab-df-convert\" onclick=\"convertToInteractive('df-23113a71-2533-4fcc-8ae3-e09522095e3b')\"\n",
              "              title=\"Convert this dataframe to an interactive table.\"\n",
              "              style=\"display:none;\">\n",
              "        \n",
              "  <svg xmlns=\"http://www.w3.org/2000/svg\" height=\"24px\"viewBox=\"0 0 24 24\"\n",
              "       width=\"24px\">\n",
              "    <path d=\"M0 0h24v24H0V0z\" fill=\"none\"/>\n",
              "    <path d=\"M18.56 5.44l.94 2.06.94-2.06 2.06-.94-2.06-.94-.94-2.06-.94 2.06-2.06.94zm-11 1L8.5 8.5l.94-2.06 2.06-.94-2.06-.94L8.5 2.5l-.94 2.06-2.06.94zm10 10l.94 2.06.94-2.06 2.06-.94-2.06-.94-.94-2.06-.94 2.06-2.06.94z\"/><path d=\"M17.41 7.96l-1.37-1.37c-.4-.4-.92-.59-1.43-.59-.52 0-1.04.2-1.43.59L10.3 9.45l-7.72 7.72c-.78.78-.78 2.05 0 2.83L4 21.41c.39.39.9.59 1.41.59.51 0 1.02-.2 1.41-.59l7.78-7.78 2.81-2.81c.8-.78.8-2.07 0-2.86zM5.41 20L4 18.59l7.72-7.72 1.47 1.35L5.41 20z\"/>\n",
              "  </svg>\n",
              "      </button>\n",
              "      \n",
              "  <style>\n",
              "    .colab-df-container {\n",
              "      display:flex;\n",
              "      flex-wrap:wrap;\n",
              "      gap: 12px;\n",
              "    }\n",
              "\n",
              "    .colab-df-convert {\n",
              "      background-color: #E8F0FE;\n",
              "      border: none;\n",
              "      border-radius: 50%;\n",
              "      cursor: pointer;\n",
              "      display: none;\n",
              "      fill: #1967D2;\n",
              "      height: 32px;\n",
              "      padding: 0 0 0 0;\n",
              "      width: 32px;\n",
              "    }\n",
              "\n",
              "    .colab-df-convert:hover {\n",
              "      background-color: #E2EBFA;\n",
              "      box-shadow: 0px 1px 2px rgba(60, 64, 67, 0.3), 0px 1px 3px 1px rgba(60, 64, 67, 0.15);\n",
              "      fill: #174EA6;\n",
              "    }\n",
              "\n",
              "    [theme=dark] .colab-df-convert {\n",
              "      background-color: #3B4455;\n",
              "      fill: #D2E3FC;\n",
              "    }\n",
              "\n",
              "    [theme=dark] .colab-df-convert:hover {\n",
              "      background-color: #434B5C;\n",
              "      box-shadow: 0px 1px 3px 1px rgba(0, 0, 0, 0.15);\n",
              "      filter: drop-shadow(0px 1px 2px rgba(0, 0, 0, 0.3));\n",
              "      fill: #FFFFFF;\n",
              "    }\n",
              "  </style>\n",
              "\n",
              "      <script>\n",
              "        const buttonEl =\n",
              "          document.querySelector('#df-23113a71-2533-4fcc-8ae3-e09522095e3b button.colab-df-convert');\n",
              "        buttonEl.style.display =\n",
              "          google.colab.kernel.accessAllowed ? 'block' : 'none';\n",
              "\n",
              "        async function convertToInteractive(key) {\n",
              "          const element = document.querySelector('#df-23113a71-2533-4fcc-8ae3-e09522095e3b');\n",
              "          const dataTable =\n",
              "            await google.colab.kernel.invokeFunction('convertToInteractive',\n",
              "                                                     [key], {});\n",
              "          if (!dataTable) return;\n",
              "\n",
              "          const docLinkHtml = 'Like what you see? Visit the ' +\n",
              "            '<a target=\"_blank\" href=https://colab.research.google.com/notebooks/data_table.ipynb>data table notebook</a>'\n",
              "            + ' to learn more about interactive tables.';\n",
              "          element.innerHTML = '';\n",
              "          dataTable['output_type'] = 'display_data';\n",
              "          await google.colab.output.renderOutput(dataTable, element);\n",
              "          const docLink = document.createElement('div');\n",
              "          docLink.innerHTML = docLinkHtml;\n",
              "          element.appendChild(docLink);\n",
              "        }\n",
              "      </script>\n",
              "    </div>\n",
              "  </div>\n",
              "  "
            ]
          },
          "metadata": {},
          "execution_count": 209
        }
      ]
    },
    {
      "cell_type": "code",
      "source": [
        "testing = pd.concat([df, dfch[17:]], axis=0)"
      ],
      "metadata": {
        "id": "Y29LoeJSUWcl"
      },
      "execution_count": null,
      "outputs": []
    },
    {
      "cell_type": "code",
      "source": [
        "testing"
      ],
      "metadata": {
        "colab": {
          "base_uri": "https://localhost:8080/",
          "height": 1000
        },
        "id": "Ky6XzC-qUlpI",
        "outputId": "254a8693-d6d9-4b81-90fa-4b412660cda7"
      },
      "execution_count": null,
      "outputs": [
        {
          "output_type": "execute_result",
          "data": {
            "text/plain": [
              "    Date        Rate\n",
              "0   1981   23.832960\n",
              "1   1982         NaN\n",
              "2   1983         NaN\n",
              "3   1984         NaN\n",
              "4   1985         NaN\n",
              "5   1986         NaN\n",
              "6   1987         NaN\n",
              "7   1988   43.114052\n",
              "8   1989         NaN\n",
              "9   1990         NaN\n",
              "10  1991         NaN\n",
              "11  1992         NaN\n",
              "12  1993         NaN\n",
              "13  1994         NaN\n",
              "14  1995         NaN\n",
              "15  1996         NaN\n",
              "16  1997         NaN\n",
              "17  1998         NaN\n",
              "18  1999         NaN\n",
              "19  2000         NaN\n",
              "20  2001         NaN\n",
              "21  2002         NaN\n",
              "22  2003         NaN\n",
              "23  2004         NaN\n",
              "24  2005   53.088558\n",
              "25  2006   58.370560\n",
              "26  2007   56.784962\n",
              "27  2008   61.249920\n",
              "28  2009   61.462662\n",
              "29  2010   62.298370\n",
              "30  2011   63.136810\n",
              "31  2012   64.474098\n",
              "32  2013   63.438000\n",
              "33  2014   65.547791\n",
              "34  2015         NaN\n",
              "35  2016         NaN\n",
              "36  2017   67.537132\n",
              "37  2018   64.350052\n",
              "38  2019   65.185577\n",
              "39  2020         NaN\n",
              "17  2038   79.382089\n",
              "18  2039   80.444943\n",
              "19  2040   81.514690\n",
              "20  2041   82.590335\n",
              "21  2042   83.670945\n",
              "22  2043   84.755762\n",
              "23  2044   85.844146\n",
              "24  2045   86.935541\n",
              "25  2046   88.029491\n",
              "26  2047   89.125600\n",
              "27  2048   90.223537\n",
              "28  2049   91.323023\n",
              "29  2050   92.423818\n",
              "30  2051   93.525723\n",
              "31  2052   94.628565\n",
              "32  2053   95.732203\n",
              "33  2054   96.836512\n",
              "34  2055   97.941391\n",
              "35  2056   99.046752\n",
              "36  2057  100.152520"
            ],
            "text/html": [
              "\n",
              "  <div id=\"df-318af652-724a-4660-a18b-6523014676ac\">\n",
              "    <div class=\"colab-df-container\">\n",
              "      <div>\n",
              "<style scoped>\n",
              "    .dataframe tbody tr th:only-of-type {\n",
              "        vertical-align: middle;\n",
              "    }\n",
              "\n",
              "    .dataframe tbody tr th {\n",
              "        vertical-align: top;\n",
              "    }\n",
              "\n",
              "    .dataframe thead th {\n",
              "        text-align: right;\n",
              "    }\n",
              "</style>\n",
              "<table border=\"1\" class=\"dataframe\">\n",
              "  <thead>\n",
              "    <tr style=\"text-align: right;\">\n",
              "      <th></th>\n",
              "      <th>Date</th>\n",
              "      <th>Rate</th>\n",
              "    </tr>\n",
              "  </thead>\n",
              "  <tbody>\n",
              "    <tr>\n",
              "      <th>0</th>\n",
              "      <td>1981</td>\n",
              "      <td>23.832960</td>\n",
              "    </tr>\n",
              "    <tr>\n",
              "      <th>1</th>\n",
              "      <td>1982</td>\n",
              "      <td>NaN</td>\n",
              "    </tr>\n",
              "    <tr>\n",
              "      <th>2</th>\n",
              "      <td>1983</td>\n",
              "      <td>NaN</td>\n",
              "    </tr>\n",
              "    <tr>\n",
              "      <th>3</th>\n",
              "      <td>1984</td>\n",
              "      <td>NaN</td>\n",
              "    </tr>\n",
              "    <tr>\n",
              "      <th>4</th>\n",
              "      <td>1985</td>\n",
              "      <td>NaN</td>\n",
              "    </tr>\n",
              "    <tr>\n",
              "      <th>5</th>\n",
              "      <td>1986</td>\n",
              "      <td>NaN</td>\n",
              "    </tr>\n",
              "    <tr>\n",
              "      <th>6</th>\n",
              "      <td>1987</td>\n",
              "      <td>NaN</td>\n",
              "    </tr>\n",
              "    <tr>\n",
              "      <th>7</th>\n",
              "      <td>1988</td>\n",
              "      <td>43.114052</td>\n",
              "    </tr>\n",
              "    <tr>\n",
              "      <th>8</th>\n",
              "      <td>1989</td>\n",
              "      <td>NaN</td>\n",
              "    </tr>\n",
              "    <tr>\n",
              "      <th>9</th>\n",
              "      <td>1990</td>\n",
              "      <td>NaN</td>\n",
              "    </tr>\n",
              "    <tr>\n",
              "      <th>10</th>\n",
              "      <td>1991</td>\n",
              "      <td>NaN</td>\n",
              "    </tr>\n",
              "    <tr>\n",
              "      <th>11</th>\n",
              "      <td>1992</td>\n",
              "      <td>NaN</td>\n",
              "    </tr>\n",
              "    <tr>\n",
              "      <th>12</th>\n",
              "      <td>1993</td>\n",
              "      <td>NaN</td>\n",
              "    </tr>\n",
              "    <tr>\n",
              "      <th>13</th>\n",
              "      <td>1994</td>\n",
              "      <td>NaN</td>\n",
              "    </tr>\n",
              "    <tr>\n",
              "      <th>14</th>\n",
              "      <td>1995</td>\n",
              "      <td>NaN</td>\n",
              "    </tr>\n",
              "    <tr>\n",
              "      <th>15</th>\n",
              "      <td>1996</td>\n",
              "      <td>NaN</td>\n",
              "    </tr>\n",
              "    <tr>\n",
              "      <th>16</th>\n",
              "      <td>1997</td>\n",
              "      <td>NaN</td>\n",
              "    </tr>\n",
              "    <tr>\n",
              "      <th>17</th>\n",
              "      <td>1998</td>\n",
              "      <td>NaN</td>\n",
              "    </tr>\n",
              "    <tr>\n",
              "      <th>18</th>\n",
              "      <td>1999</td>\n",
              "      <td>NaN</td>\n",
              "    </tr>\n",
              "    <tr>\n",
              "      <th>19</th>\n",
              "      <td>2000</td>\n",
              "      <td>NaN</td>\n",
              "    </tr>\n",
              "    <tr>\n",
              "      <th>20</th>\n",
              "      <td>2001</td>\n",
              "      <td>NaN</td>\n",
              "    </tr>\n",
              "    <tr>\n",
              "      <th>21</th>\n",
              "      <td>2002</td>\n",
              "      <td>NaN</td>\n",
              "    </tr>\n",
              "    <tr>\n",
              "      <th>22</th>\n",
              "      <td>2003</td>\n",
              "      <td>NaN</td>\n",
              "    </tr>\n",
              "    <tr>\n",
              "      <th>23</th>\n",
              "      <td>2004</td>\n",
              "      <td>NaN</td>\n",
              "    </tr>\n",
              "    <tr>\n",
              "      <th>24</th>\n",
              "      <td>2005</td>\n",
              "      <td>53.088558</td>\n",
              "    </tr>\n",
              "    <tr>\n",
              "      <th>25</th>\n",
              "      <td>2006</td>\n",
              "      <td>58.370560</td>\n",
              "    </tr>\n",
              "    <tr>\n",
              "      <th>26</th>\n",
              "      <td>2007</td>\n",
              "      <td>56.784962</td>\n",
              "    </tr>\n",
              "    <tr>\n",
              "      <th>27</th>\n",
              "      <td>2008</td>\n",
              "      <td>61.249920</td>\n",
              "    </tr>\n",
              "    <tr>\n",
              "      <th>28</th>\n",
              "      <td>2009</td>\n",
              "      <td>61.462662</td>\n",
              "    </tr>\n",
              "    <tr>\n",
              "      <th>29</th>\n",
              "      <td>2010</td>\n",
              "      <td>62.298370</td>\n",
              "    </tr>\n",
              "    <tr>\n",
              "      <th>30</th>\n",
              "      <td>2011</td>\n",
              "      <td>63.136810</td>\n",
              "    </tr>\n",
              "    <tr>\n",
              "      <th>31</th>\n",
              "      <td>2012</td>\n",
              "      <td>64.474098</td>\n",
              "    </tr>\n",
              "    <tr>\n",
              "      <th>32</th>\n",
              "      <td>2013</td>\n",
              "      <td>63.438000</td>\n",
              "    </tr>\n",
              "    <tr>\n",
              "      <th>33</th>\n",
              "      <td>2014</td>\n",
              "      <td>65.547791</td>\n",
              "    </tr>\n",
              "    <tr>\n",
              "      <th>34</th>\n",
              "      <td>2015</td>\n",
              "      <td>NaN</td>\n",
              "    </tr>\n",
              "    <tr>\n",
              "      <th>35</th>\n",
              "      <td>2016</td>\n",
              "      <td>NaN</td>\n",
              "    </tr>\n",
              "    <tr>\n",
              "      <th>36</th>\n",
              "      <td>2017</td>\n",
              "      <td>67.537132</td>\n",
              "    </tr>\n",
              "    <tr>\n",
              "      <th>37</th>\n",
              "      <td>2018</td>\n",
              "      <td>64.350052</td>\n",
              "    </tr>\n",
              "    <tr>\n",
              "      <th>38</th>\n",
              "      <td>2019</td>\n",
              "      <td>65.185577</td>\n",
              "    </tr>\n",
              "    <tr>\n",
              "      <th>39</th>\n",
              "      <td>2020</td>\n",
              "      <td>NaN</td>\n",
              "    </tr>\n",
              "    <tr>\n",
              "      <th>17</th>\n",
              "      <td>2038</td>\n",
              "      <td>79.382089</td>\n",
              "    </tr>\n",
              "    <tr>\n",
              "      <th>18</th>\n",
              "      <td>2039</td>\n",
              "      <td>80.444943</td>\n",
              "    </tr>\n",
              "    <tr>\n",
              "      <th>19</th>\n",
              "      <td>2040</td>\n",
              "      <td>81.514690</td>\n",
              "    </tr>\n",
              "    <tr>\n",
              "      <th>20</th>\n",
              "      <td>2041</td>\n",
              "      <td>82.590335</td>\n",
              "    </tr>\n",
              "    <tr>\n",
              "      <th>21</th>\n",
              "      <td>2042</td>\n",
              "      <td>83.670945</td>\n",
              "    </tr>\n",
              "    <tr>\n",
              "      <th>22</th>\n",
              "      <td>2043</td>\n",
              "      <td>84.755762</td>\n",
              "    </tr>\n",
              "    <tr>\n",
              "      <th>23</th>\n",
              "      <td>2044</td>\n",
              "      <td>85.844146</td>\n",
              "    </tr>\n",
              "    <tr>\n",
              "      <th>24</th>\n",
              "      <td>2045</td>\n",
              "      <td>86.935541</td>\n",
              "    </tr>\n",
              "    <tr>\n",
              "      <th>25</th>\n",
              "      <td>2046</td>\n",
              "      <td>88.029491</td>\n",
              "    </tr>\n",
              "    <tr>\n",
              "      <th>26</th>\n",
              "      <td>2047</td>\n",
              "      <td>89.125600</td>\n",
              "    </tr>\n",
              "    <tr>\n",
              "      <th>27</th>\n",
              "      <td>2048</td>\n",
              "      <td>90.223537</td>\n",
              "    </tr>\n",
              "    <tr>\n",
              "      <th>28</th>\n",
              "      <td>2049</td>\n",
              "      <td>91.323023</td>\n",
              "    </tr>\n",
              "    <tr>\n",
              "      <th>29</th>\n",
              "      <td>2050</td>\n",
              "      <td>92.423818</td>\n",
              "    </tr>\n",
              "    <tr>\n",
              "      <th>30</th>\n",
              "      <td>2051</td>\n",
              "      <td>93.525723</td>\n",
              "    </tr>\n",
              "    <tr>\n",
              "      <th>31</th>\n",
              "      <td>2052</td>\n",
              "      <td>94.628565</td>\n",
              "    </tr>\n",
              "    <tr>\n",
              "      <th>32</th>\n",
              "      <td>2053</td>\n",
              "      <td>95.732203</td>\n",
              "    </tr>\n",
              "    <tr>\n",
              "      <th>33</th>\n",
              "      <td>2054</td>\n",
              "      <td>96.836512</td>\n",
              "    </tr>\n",
              "    <tr>\n",
              "      <th>34</th>\n",
              "      <td>2055</td>\n",
              "      <td>97.941391</td>\n",
              "    </tr>\n",
              "    <tr>\n",
              "      <th>35</th>\n",
              "      <td>2056</td>\n",
              "      <td>99.046752</td>\n",
              "    </tr>\n",
              "    <tr>\n",
              "      <th>36</th>\n",
              "      <td>2057</td>\n",
              "      <td>100.152520</td>\n",
              "    </tr>\n",
              "  </tbody>\n",
              "</table>\n",
              "</div>\n",
              "      <button class=\"colab-df-convert\" onclick=\"convertToInteractive('df-318af652-724a-4660-a18b-6523014676ac')\"\n",
              "              title=\"Convert this dataframe to an interactive table.\"\n",
              "              style=\"display:none;\">\n",
              "        \n",
              "  <svg xmlns=\"http://www.w3.org/2000/svg\" height=\"24px\"viewBox=\"0 0 24 24\"\n",
              "       width=\"24px\">\n",
              "    <path d=\"M0 0h24v24H0V0z\" fill=\"none\"/>\n",
              "    <path d=\"M18.56 5.44l.94 2.06.94-2.06 2.06-.94-2.06-.94-.94-2.06-.94 2.06-2.06.94zm-11 1L8.5 8.5l.94-2.06 2.06-.94-2.06-.94L8.5 2.5l-.94 2.06-2.06.94zm10 10l.94 2.06.94-2.06 2.06-.94-2.06-.94-.94-2.06-.94 2.06-2.06.94z\"/><path d=\"M17.41 7.96l-1.37-1.37c-.4-.4-.92-.59-1.43-.59-.52 0-1.04.2-1.43.59L10.3 9.45l-7.72 7.72c-.78.78-.78 2.05 0 2.83L4 21.41c.39.39.9.59 1.41.59.51 0 1.02-.2 1.41-.59l7.78-7.78 2.81-2.81c.8-.78.8-2.07 0-2.86zM5.41 20L4 18.59l7.72-7.72 1.47 1.35L5.41 20z\"/>\n",
              "  </svg>\n",
              "      </button>\n",
              "      \n",
              "  <style>\n",
              "    .colab-df-container {\n",
              "      display:flex;\n",
              "      flex-wrap:wrap;\n",
              "      gap: 12px;\n",
              "    }\n",
              "\n",
              "    .colab-df-convert {\n",
              "      background-color: #E8F0FE;\n",
              "      border: none;\n",
              "      border-radius: 50%;\n",
              "      cursor: pointer;\n",
              "      display: none;\n",
              "      fill: #1967D2;\n",
              "      height: 32px;\n",
              "      padding: 0 0 0 0;\n",
              "      width: 32px;\n",
              "    }\n",
              "\n",
              "    .colab-df-convert:hover {\n",
              "      background-color: #E2EBFA;\n",
              "      box-shadow: 0px 1px 2px rgba(60, 64, 67, 0.3), 0px 1px 3px 1px rgba(60, 64, 67, 0.15);\n",
              "      fill: #174EA6;\n",
              "    }\n",
              "\n",
              "    [theme=dark] .colab-df-convert {\n",
              "      background-color: #3B4455;\n",
              "      fill: #D2E3FC;\n",
              "    }\n",
              "\n",
              "    [theme=dark] .colab-df-convert:hover {\n",
              "      background-color: #434B5C;\n",
              "      box-shadow: 0px 1px 3px 1px rgba(0, 0, 0, 0.15);\n",
              "      filter: drop-shadow(0px 1px 2px rgba(0, 0, 0, 0.3));\n",
              "      fill: #FFFFFF;\n",
              "    }\n",
              "  </style>\n",
              "\n",
              "      <script>\n",
              "        const buttonEl =\n",
              "          document.querySelector('#df-318af652-724a-4660-a18b-6523014676ac button.colab-df-convert');\n",
              "        buttonEl.style.display =\n",
              "          google.colab.kernel.accessAllowed ? 'block' : 'none';\n",
              "\n",
              "        async function convertToInteractive(key) {\n",
              "          const element = document.querySelector('#df-318af652-724a-4660-a18b-6523014676ac');\n",
              "          const dataTable =\n",
              "            await google.colab.kernel.invokeFunction('convertToInteractive',\n",
              "                                                     [key], {});\n",
              "          if (!dataTable) return;\n",
              "\n",
              "          const docLinkHtml = 'Like what you see? Visit the ' +\n",
              "            '<a target=\"_blank\" href=https://colab.research.google.com/notebooks/data_table.ipynb>data table notebook</a>'\n",
              "            + ' to learn more about interactive tables.';\n",
              "          element.innerHTML = '';\n",
              "          dataTable['output_type'] = 'display_data';\n",
              "          await google.colab.output.renderOutput(dataTable, element);\n",
              "          const docLink = document.createElement('div');\n",
              "          docLink.innerHTML = docLinkHtml;\n",
              "          element.appendChild(docLink);\n",
              "        }\n",
              "      </script>\n",
              "    </div>\n",
              "  </div>\n",
              "  "
            ]
          },
          "metadata": {},
          "execution_count": 165
        }
      ]
    },
    {
      "cell_type": "code",
      "source": [
        "plt.figure(figsize=(10, 7), dpi=95, facecolor='beige')\n",
        "#plt.figure(facecolor='beige')\n",
        "\n",
        "plt.ylabel(\"Literacy Rate\", fontweight='bold')\n",
        "ax = plt.axes()\n",
        "\n",
        "\n",
        "ax.set_facecolor(\"white\")\n",
        "\n",
        "plt.title(\"Forecast of ARIMA Model(3,1,0)\")\n",
        "\n",
        "plt.xlabel(\"Years\", fontweight='bold')\n",
        "# Create the data set\n",
        "x = testing['Date']\n",
        "y = testing['Rate']\n",
        "#Define the confidence interval\n",
        "ci = 7* np.std(y) / np.mean(y)\n",
        "# Plot the sinus function\n",
        "plt.plot(x, y)\n",
        "# Plot the confidence interval\n",
        "plt.fill_between(x, (y-ci), (y+ci), color='green', alpha=0.35)\n",
        "plt.fill_between(x, (y-2*ci), (y+2*ci), color='blue', alpha=0.15)\n",
        "plt.show()"
      ],
      "metadata": {
        "colab": {
          "base_uri": "https://localhost:8080/",
          "height": 598
        },
        "id": "dmRLD8OoU8lZ",
        "outputId": "d3a8dff9-d319-4fec-9fef-f639fb3c42b2"
      },
      "execution_count": null,
      "outputs": [
        {
          "output_type": "display_data",
          "data": {
            "text/plain": [
              "<Figure size 950x665 with 1 Axes>"
            ],
            "image/png": "[encoded data removed]"
          },
          "metadata": {}
        }
      ]
    },
    {
      "cell_type": "code",
      "source": [
        "plt.figure(figsize=(12, 8), dpi=80, facecolor='beige')\n",
        "plt.ylabel(\"Total number of observations (Years)\", fontweight='bold')\n",
        "ax = plt.axes()\n",
        "ax.set_facecolor(\"white\")\n",
        "plt.xlabel(\"Literacy Rate\", fontweight='bold')\n",
        "plt.title(\"Forecasted 100% Literacy Rate of female youth in Pakistan\")\n",
        "x = vertical_concat['Date']\n",
        "y = vertical_concat['Rate']\n",
        "plt.plot(x, y)\n",
        "plt.show()"
      ],
      "metadata": {
        "colab": {
          "base_uri": "https://localhost:8080/",
          "height": 565
        },
        "id": "Z5VeWPMNcHe5",
        "outputId": "7d5fd74a-bace-4ecf-85c6-e7c9fd4d3283"
      },
      "execution_count": null,
      "outputs": [
        {
          "output_type": "display_data",
          "data": {
            "text/plain": [
              "<Figure size 960x640 with 1 Axes>"
            ],
            "image/png": "[encoded data removed]"
          },
          "metadata": {}
        }
      ]
    },
    {
      "cell_type": "code",
      "source": [
        "plt.figure(figsize=(10, 8), dpi=150)\n",
        "vertical_concat.plot(x='Date', y ='Rate')\n",
        "plt.title('Literacy rate')\n",
        "plt.legend()\n",
        "plt.show()"
      ],
      "metadata": {
        "colab": {
          "base_uri": "https://localhost:8080/",
          "height": 313
        },
        "id": "2h60rVOhHxJf",
        "outputId": "266adc31-a2f7-41eb-d495-50067fa9127c"
      },
      "execution_count": null,
      "outputs": [
        {
          "output_type": "display_data",
          "data": {
            "text/plain": [
              "<Figure size 1500x1200 with 0 Axes>"
            ]
          },
          "metadata": {}
        },
        {
          "output_type": "display_data",
          "data": {
            "text/plain": [
              "<Figure size 432x288 with 1 Axes>"
            ],
            "image/png": "[encoded data removed]"
          },
          "metadata": {
            "needs_background": "light"
          }
        }
      ]
    },
    {
      "cell_type": "code",
      "source": [
        "#######################################   BEST MODEL   #################################################################"
      ],
      "metadata": {
        "id": "9NJl2fEbgo6H"
      },
      "execution_count": null,
      "outputs": []
    },
    {
      "cell_type": "code",
      "source": [
        "def measure_rmse(actual, predicted):\n",
        "\treturn sqrt(mean_squared_error(actual, predicted))"
      ],
      "metadata": {
        "id": "tCKdhHjkguu5"
      },
      "execution_count": null,
      "outputs": []
    },
    {
      "cell_type": "code",
      "source": [
        "def train_test_split(data, n_train):\n",
        "\treturn data[0:n_train], data[n_train:]\n",
        "  #return data[n_train:], data[n_train:]"
      ],
      "metadata": {
        "id": "nTOgahPpgxcw"
      },
      "execution_count": null,
      "outputs": []
    },
    {
      "cell_type": "code",
      "source": [
        "import math\n",
        "def evaluate_arima_model(data, arima_order, train_data_size_percent = 0.66, logging = False):\n",
        "  # prepare training dataset\n",
        "  train_size = int(len(data) * train_data_size_percent)\n",
        "  train, test = train_test_split(data, train_size)\n",
        "  history = [x for x in train]\n",
        "  # make predictions\n",
        "  predictions = list()\n",
        "  for t in range(len(test)):\n",
        "    model = ARIMA(history, order=arima_order)\n",
        "    model_fit = model.fit(disp=0)\n",
        "    if (logging):\n",
        "      print(model_fit.summary())\n",
        "    yhat = model_fit.forecast()[0]\n",
        "    #yhat = np.round(yhat, decimals = 3)\n",
        "    predictions.append(yhat)\n",
        "    history.append(test[t])\n",
        "\n",
        "  # calculate out of sample error\n",
        "  error = mean_squared_error(test, predictions)\n",
        "  mape = np.mean(np.abs(predictions - test)/np.abs(test))\n",
        "  me = np.mean(predictions - test)             # ME\n",
        "  mae = np.mean(np.abs(predictions - test))    # MAE\n",
        "  mpe = np.mean((predictions - test)/test)   # MPE\n",
        "  #rmse = np.mean((predictions - test)**2)**.5  # RMSE\n",
        "  rmse = math.sqrt(mean_squared_error(test,predictions))\n",
        "  #rmse = measure_rmse(test, predictions)\n",
        "  return error, test, predictions, mape, me, rmse, mpe, mae"
      ],
      "metadata": {
        "id": "ji54W7N0g0y3"
      },
      "execution_count": null,
      "outputs": []
    },
    {
      "cell_type": "code",
      "source": [
        "def grid_search_arima(dataset,  p_values= range(0, 6), d_values= range(0, 3), q_values= range(0, 6)):\n",
        "  dataset = dataset.astype('float32')\n",
        "  best_score, best_cfg = float(\"inf\"), None\n",
        "  for p in p_values:\n",
        "    for d in d_values:\n",
        "      for q in q_values:\n",
        "        if (d <= 2) and (p + d + q <= 5):\n",
        "          order = (p,d,q)\n",
        "          try:\n",
        "            mse, test, predictions, a, b, c, d, f = evaluate_arima_model(dataset, order)\n",
        "            if mse < best_score:\n",
        "              best_score, best_cfg, mape, me, rmse, mpe, mae = mse, order, a ,b, c, d, f\n",
        "            print('ARIMA%s MSE=%.3f MAPE=%.3f ME=%.3f RSME=%3.f MPE=%3.f MAE=%3.f' % (order,best_score, mape, me, rmse, mpe,mae))\n",
        "          except Exception as e:\n",
        "            print ('ARIMA'+ str(order)+ ' Exception occured at this configuration')\n",
        "            continue\n",
        "  print('Best ARIMA%s MSE=%.3f MAPE=%.3f ME=%.3f RSME=%3.f MPE=%3.f, MAE=%3.f' % (best_cfg, best_score, mape, me, rmse, mpe, mae))"
      ],
      "metadata": {
        "id": "kHsPTxHfg4xJ"
      },
      "execution_count": null,
      "outputs": []
    },
    {
      "cell_type": "code",
      "source": [
        "grid_search_arima(df1['Rate'].values)"
      ],
      "metadata": {
        "colab": {
          "base_uri": "https://localhost:8080/"
        },
        "id": "cz55GMNFg8BW",
        "outputId": "db426738-268f-4e3a-fdc4-185348b13a21"
      },
      "execution_count": null,
      "outputs": [
        {
          "output_type": "stream",
          "name": "stdout",
          "text": [
            "ARIMA(0, 0, 0) MSE=266.254 MAPE=0.253 ME=-16.242 RSME= 16 MPE= -0 MAE= 16\n",
            "ARIMA(0, -0.25303634552871734, 1) Exception occured at this configuration\n",
            "ARIMA(0, -0.25303634552871734, 2) Exception occured at this configuration\n",
            "ARIMA(0, -0.25303634552871734, 3) Exception occured at this configuration\n",
            "ARIMA(0, -0.25303634552871734, 4) Exception occured at this configuration\n",
            "ARIMA(0, -0.25303634552871734, 5) Exception occured at this configuration\n",
            "ARIMA(0, 1, 0) MSE=3.487 MAPE=0.051 ME=0.778 RSME=  2 MPE=  0 MAE=  3\n",
            "ARIMA(0, 0.014062616801567195, 1) Exception occured at this configuration\n",
            "ARIMA(0, 0.014062616801567195, 2) Exception occured at this configuration\n",
            "ARIMA(0, 0.014062616801567195, 3) Exception occured at this configuration\n",
            "ARIMA(0, 0.014062616801567195, 4) Exception occured at this configuration\n",
            "ARIMA(0, 2, 0) MSE=3.487 MAPE=0.051 ME=0.778 RSME=  2 MPE=  0 MAE=  3\n",
            "ARIMA(0, 0.006858372365885393, 1) Exception occured at this configuration\n",
            "ARIMA(0, 0.006858372365885393, 2) Exception occured at this configuration\n",
            "ARIMA(0, 0.006858372365885393, 3) Exception occured at this configuration\n",
            "ARIMA(0, 0.006858372365885393, 4) Exception occured at this configuration\n",
            "ARIMA(1, 0, 0) MSE=3.221 MAPE=0.050 ME=-0.587 RSME=  2 MPE= -0 MAE=  3\n",
            "ARIMA(1, -0.00735349159739132, 1) Exception occured at this configuration\n",
            "ARIMA(1, -0.00735349159739132, 2) Exception occured at this configuration\n",
            "ARIMA(1, -0.00735349159739132, 3) Exception occured at this configuration\n",
            "ARIMA(1, -0.00735349159739132, 4) Exception occured at this configuration\n",
            "ARIMA(1, 1, 0) MSE=3.221 MAPE=0.050 ME=-0.587 RSME=  2 MPE= -0 MAE=  3\n",
            "ARIMA(1, 0.01779558022863486, 1) Exception occured at this configuration\n",
            "ARIMA(1, 0.01779558022863486, 2) Exception occured at this configuration\n",
            "ARIMA(1, 0.01779558022863486, 3) Exception occured at this configuration\n",
            "ARIMA(1, 2, 0) MSE=3.221 MAPE=0.050 ME=-0.587 RSME=  2 MPE= -0 MAE=  3\n",
            "ARIMA(1, 0.010564269792859649, 1) Exception occured at this configuration\n",
            "ARIMA(1, 0.010564269792859649, 2) Exception occured at this configuration\n",
            "ARIMA(1, 0.010564269792859649, 3) Exception occured at this configuration\n",
            "ARIMA(2, 0, 0) MSE=3.221 MAPE=0.050 ME=-0.587 RSME=  2 MPE= -0 MAE=  3\n",
            "ARIMA(2, 0.0005934607119686657, 1) Exception occured at this configuration\n",
            "ARIMA(2, 0.0005934607119686657, 2) Exception occured at this configuration\n",
            "ARIMA(2, 1, 0) MSE=3.221 MAPE=0.050 ME=-0.587 RSME=  2 MPE= -0 MAE=  3\n",
            "ARIMA(2, 0.016190910410808522, 1) Exception occured at this configuration\n",
            "ARIMA(2, 0.016190910410808522, 2) Exception occured at this configuration\n",
            "ARIMA(2, 2, 0) MSE=3.221 MAPE=0.050 ME=-0.587 RSME=  2 MPE= -0 MAE=  3\n",
            "ARIMA(2, 0.013331774456813408, 1) Exception occured at this configuration\n",
            "ARIMA(2, 0.013331774456813408, 2) Exception occured at this configuration\n",
            "ARIMA(3, 0, 0) MSE=3.221 MAPE=0.050 ME=-0.587 RSME=  2 MPE= -0 MAE=  3\n",
            "ARIMA(3, 0.007522338875558011, 1) Exception occured at this configuration\n",
            "ARIMA(3, 1, 0) MSE=3.221 MAPE=0.050 ME=-0.587 RSME=  2 MPE= -0 MAE=  3\n",
            "ARIMA(3, 0.017197606543600516, 1) Exception occured at this configuration\n",
            "ARIMA(3, 2, 0) MSE=3.221 MAPE=0.050 ME=-0.587 RSME=  2 MPE= -0 MAE=  3\n",
            "ARIMA(3, 0.013292551800844018, 1) Exception occured at this configuration\n",
            "ARIMA(4, 0, 0) Exception occured at this configuration\n",
            "ARIMA(4, 0, 1) Exception occured at this configuration\n",
            "ARIMA(4, 1, 0) MSE=3.221 MAPE=0.050 ME=-0.587 RSME=  2 MPE= -0 MAE=  3\n",
            "ARIMA(5, 0, 0) MSE=3.221 MAPE=0.050 ME=-0.587 RSME=  2 MPE= -0 MAE=  3\n",
            "Best ARIMA(1, 0, 0) MSE=3.221 MAPE=0.050 ME=-0.587 RSME=  2 MPE= -0, MAE=  3\n"
          ]
        }
      ]
    },
    {
      "cell_type": "code",
      "source": [
        "mse, test, predictions, a, b, c, d, f = evaluate_arima_model(df1['Rate'].values, (1,0,0))\n",
        "print(test)\n",
        "print(predictions)\n",
        "print('MSE=%.3f MAPE=%.3f ME=%.3f RSME=%3.f MPE=%3.f, MAE=%3.f' % (mse, a, b, c, d, f))\n",
        "\n",
        "\n",
        "plt.figure(figsize=(10, 7), dpi=70)\n",
        "plt.plot(predictions, label='Fitted Value', color='blue')\n",
        "plt.plot(test, label = \"Original Values\", color='red')\n",
        "\n",
        "# adding title to the plot\n",
        "plt.title('GRAPH OF ACTUAL Literacy Rate VS PREDICTED Literacy Rate')\n",
        "plt.ylabel('Rate')\n",
        "plt.xlabel('Time')\n",
        "\n",
        "# adding legend to the curve\n",
        "plt.legend()\n",
        "plt.show()\n"
      ],
      "metadata": {
        "colab": {
          "base_uri": "https://localhost:8080/",
          "height": 556
        },
        "id": "wxWxNZkuhIwi",
        "outputId": "600d971b-a2ca-4eeb-e96e-ebbc0ffde6de"
      },
      "execution_count": null,
      "outputs": [
        {
          "output_type": "stream",
          "name": "stdout",
          "text": [
            "[56.7849617  61.24991989 61.46266174 62.29837036 63.1368103  64.47409821\n",
            " 63.43799973 65.54779053 66.21090444 66.87401835 67.53713226 64.35005188\n",
            " 65.18557739 65.18557739]\n",
            "[array([58.25924297]), array([56.67051293]), array([61.12858231]), array([61.34715047]), array([62.18918754]), array([63.03338154]), array([64.37606368]), array([63.3402197]), array([65.45409699]), array([66.12140562]), array([66.78839969]), array([67.45511268]), array([64.25735913]), array([65.09664652])]\n",
            "MSE=3.221 MAPE=0.050 ME=-0.587 RSME=  2 MPE= -0, MAE=  3\n"
          ]
        },
        {
          "output_type": "display_data",
          "data": {
            "text/plain": [
              "<Figure size 700x490 with 1 Axes>"
            ],
            "image/png": "[encoded data removed]"
          },
          "metadata": {
            "needs_background": "light"
          }
        }
      ]
    }
  ]
}